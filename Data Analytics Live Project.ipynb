{
 "cells": [
  {
   "cell_type": "markdown",
   "id": "bd68c3fe-2b80-444a-a1d3-8f228ea40d17",
   "metadata": {},
   "source": [
    "#### NAME: SONAM YADAV\n",
    "\n",
    "#### DOMAIN PROBLEM STATEMENT : DATA ANALYtics\r\n"
   ]
  },
  {
   "cell_type": "markdown",
   "id": "703a6a0a-89c6-49ae-81e0-38ee258b8ec2",
   "metadata": {},
   "source": [
    "###  Project PROBLEM:\n",
    "Absence of insights for the relationship between student's economic background, academic performance, competence & expected salary."
   ]
  },
  {
   "cell_type": "markdown",
   "id": "aede9e12-ef8c-42e4-9ab1-80bd5b26bc9d",
   "metadata": {},
   "source": [
    "### Project Objective:\n",
    "We aim to conduct a comprehensive analysis of our student interns to gain insights about relationship between their academic performance, event participation, career aspiration and factors influencing their success. We have collected a dataset containing various attributes for each student"
   ]
  },
  {
   "cell_type": "code",
   "execution_count": 1,
   "id": "ca96c8ae-b986-45cb-a066-0ff19e1fd473",
   "metadata": {},
   "outputs": [],
   "source": [
    "# Important libraries\n",
    "import numpy as np\n",
    "import pandas as pd\n",
    "import matplotlib.pyplot as plt\n",
    "import seaborn as sns\n",
    "import warnings\n",
    "warnings.filterwarnings(\"ignore\")"
   ]
  },
  {
   "cell_type": "code",
   "execution_count": 3,
   "id": "950e7763-60c2-478c-b2ea-24e9e16dc3e9",
   "metadata": {},
   "outputs": [
    {
     "data": {
      "text/html": [
       "<div>\n",
       "<style scoped>\n",
       "    .dataframe tbody tr th:only-of-type {\n",
       "        vertical-align: middle;\n",
       "    }\n",
       "\n",
       "    .dataframe tbody tr th {\n",
       "        vertical-align: top;\n",
       "    }\n",
       "\n",
       "    .dataframe thead th {\n",
       "        text-align: right;\n",
       "    }\n",
       "</style>\n",
       "<table border=\"1\" class=\"dataframe\">\n",
       "  <thead>\n",
       "    <tr style=\"text-align: right;\">\n",
       "      <th></th>\n",
       "      <th>First Name</th>\n",
       "      <th>Email ID</th>\n",
       "      <th>Quantity</th>\n",
       "      <th>Events</th>\n",
       "      <th>Attendee Status</th>\n",
       "      <th>College Name</th>\n",
       "      <th>How did you come to know about this event?</th>\n",
       "      <th>Specify in \"Others\" (how did you come to know about this event)</th>\n",
       "      <th>Designation</th>\n",
       "      <th>Year of Graduation</th>\n",
       "      <th>City</th>\n",
       "      <th>CGPA</th>\n",
       "      <th>Experience with python (Months)</th>\n",
       "      <th>Family Income</th>\n",
       "      <th>Expected salary (Lac)</th>\n",
       "      <th>Leadership- skills</th>\n",
       "    </tr>\n",
       "  </thead>\n",
       "  <tbody>\n",
       "    <tr>\n",
       "      <th>0</th>\n",
       "      <td>ANIKET</td>\n",
       "      <td>aniket@xyz.com</td>\n",
       "      <td>1</td>\n",
       "      <td>Art of Resume Building</td>\n",
       "      <td>Attending</td>\n",
       "      <td>D Y PATIL INSTITUTE OF MCA AND MANAGEMENT AKUR...</td>\n",
       "      <td>Email</td>\n",
       "      <td>NaN</td>\n",
       "      <td>Students</td>\n",
       "      <td>2024</td>\n",
       "      <td>Patna</td>\n",
       "      <td>6.7</td>\n",
       "      <td>7</td>\n",
       "      <td>7 Lakh+</td>\n",
       "      <td>6</td>\n",
       "      <td>yes</td>\n",
       "    </tr>\n",
       "    <tr>\n",
       "      <th>1</th>\n",
       "      <td>Dhanshree</td>\n",
       "      <td>dhanshree@xyz.com</td>\n",
       "      <td>1</td>\n",
       "      <td>Art of Resume Building</td>\n",
       "      <td>Attending</td>\n",
       "      <td>AP SHAH INSTITUTE OF TECHNOLOGY</td>\n",
       "      <td>Others</td>\n",
       "      <td>College</td>\n",
       "      <td>Students</td>\n",
       "      <td>2024</td>\n",
       "      <td>Amravati</td>\n",
       "      <td>8.2</td>\n",
       "      <td>3</td>\n",
       "      <td>0-2 Lakh</td>\n",
       "      <td>7</td>\n",
       "      <td>no</td>\n",
       "    </tr>\n",
       "    <tr>\n",
       "      <th>2</th>\n",
       "      <td>Dhiraj</td>\n",
       "      <td>dhiraj@xyz.com</td>\n",
       "      <td>1</td>\n",
       "      <td>Art of Resume Building</td>\n",
       "      <td>Attending</td>\n",
       "      <td>Don Bosco College of Engineering Fatorda Goa</td>\n",
       "      <td>Email</td>\n",
       "      <td>NaN</td>\n",
       "      <td>Students</td>\n",
       "      <td>2023</td>\n",
       "      <td>Kunrool</td>\n",
       "      <td>6.5</td>\n",
       "      <td>4</td>\n",
       "      <td>5-7 Lakh</td>\n",
       "      <td>7</td>\n",
       "      <td>no</td>\n",
       "    </tr>\n",
       "    <tr>\n",
       "      <th>3</th>\n",
       "      <td>Pooja</td>\n",
       "      <td>pooja@xyz.com</td>\n",
       "      <td>1</td>\n",
       "      <td>Art of Resume Building</td>\n",
       "      <td>Attending</td>\n",
       "      <td>Pillai College of Engineering New Panvel</td>\n",
       "      <td>Email</td>\n",
       "      <td>NaN</td>\n",
       "      <td>Students</td>\n",
       "      <td>2025</td>\n",
       "      <td>Tirupati</td>\n",
       "      <td>8.7</td>\n",
       "      <td>7</td>\n",
       "      <td>2-5 Lakh</td>\n",
       "      <td>8</td>\n",
       "      <td>no</td>\n",
       "    </tr>\n",
       "    <tr>\n",
       "      <th>4</th>\n",
       "      <td>Aayush</td>\n",
       "      <td>aayush@xyz.com</td>\n",
       "      <td>1</td>\n",
       "      <td>Art of Resume Building</td>\n",
       "      <td>Attending</td>\n",
       "      <td>St Xavier's College</td>\n",
       "      <td>Instagram | LinkedIn | Cloud Counselage Website</td>\n",
       "      <td>NaN</td>\n",
       "      <td>Students</td>\n",
       "      <td>2024</td>\n",
       "      <td>Vijaywada</td>\n",
       "      <td>9.1</td>\n",
       "      <td>3</td>\n",
       "      <td>0-2 Lakh</td>\n",
       "      <td>10</td>\n",
       "      <td>yes</td>\n",
       "    </tr>\n",
       "  </tbody>\n",
       "</table>\n",
       "</div>"
      ],
      "text/plain": [
       "  First Name           Email ID  Quantity                  Events  \\\n",
       "0     ANIKET     aniket@xyz.com         1  Art of Resume Building   \n",
       "1  Dhanshree  dhanshree@xyz.com         1  Art of Resume Building   \n",
       "2     Dhiraj     dhiraj@xyz.com         1  Art of Resume Building   \n",
       "3      Pooja      pooja@xyz.com         1  Art of Resume Building   \n",
       "4     Aayush     aayush@xyz.com         1  Art of Resume Building   \n",
       "\n",
       "  Attendee Status                                       College Name  \\\n",
       "0       Attending  D Y PATIL INSTITUTE OF MCA AND MANAGEMENT AKUR...   \n",
       "1       Attending                   AP SHAH INSTITUTE OF TECHNOLOGY    \n",
       "2       Attending       Don Bosco College of Engineering Fatorda Goa   \n",
       "3       Attending           Pillai College of Engineering New Panvel   \n",
       "4       Attending                               St Xavier's College    \n",
       "\n",
       "        How did you come to know about this event?  \\\n",
       "0                                            Email   \n",
       "1                                           Others   \n",
       "2                                            Email   \n",
       "3                                            Email   \n",
       "4  Instagram | LinkedIn | Cloud Counselage Website   \n",
       "\n",
       "  Specify in \"Others\" (how did you come to know about this event) Designation  \\\n",
       "0                                                NaN                 Students   \n",
       "1                                            College                 Students   \n",
       "2                                                NaN                 Students   \n",
       "3                                                NaN                 Students   \n",
       "4                                                NaN                 Students   \n",
       "\n",
       "   Year of Graduation       City  CGPA  Experience with python (Months)  \\\n",
       "0                2024      Patna   6.7                                7   \n",
       "1                2024   Amravati   8.2                                3   \n",
       "2                2023    Kunrool   6.5                                4   \n",
       "3                2025   Tirupati   8.7                                7   \n",
       "4                2024  Vijaywada   9.1                                3   \n",
       "\n",
       "  Family Income  Expected salary (Lac) Leadership- skills  \n",
       "0       7 Lakh+                      6                yes  \n",
       "1      0-2 Lakh                      7                 no  \n",
       "2      5-7 Lakh                      7                 no  \n",
       "3      2-5 Lakh                      8                 no  \n",
       "4      0-2 Lakh                     10                yes  "
      ]
     },
     "execution_count": 3,
     "metadata": {},
     "output_type": "execute_result"
    }
   ],
   "source": [
    "# Import Dataset\n",
    "df=pd.read_excel(\"Data analyst Data.xlsx\")\n",
    "df.head()\n"
   ]
  },
  {
   "cell_type": "code",
   "execution_count": 4,
   "id": "b19ab749-43e7-4f64-a994-2a831e8ea197",
   "metadata": {},
   "outputs": [
    {
     "data": {
      "text/plain": [
       "Specify in \"Others\" (how did you come to know about this event)    4805\n",
       "How did you come to know about this event?                         2216\n",
       "College Name                                                         15\n",
       "First Name                                                            0\n",
       "Email ID                                                              0\n",
       "Quantity                                                              0\n",
       "Events                                                                0\n",
       "Attendee Status                                                       0\n",
       "Designation                                                           0\n",
       "Year of Graduation                                                    0\n",
       "City                                                                  0\n",
       "CGPA                                                                  0\n",
       "Experience with python (Months)                                       0\n",
       "Family Income                                                         0\n",
       "Expected salary (Lac)                                                 0\n",
       "Leadership- skills                                                    0\n",
       "dtype: int64"
      ]
     },
     "execution_count": 4,
     "metadata": {},
     "output_type": "execute_result"
    }
   ],
   "source": [
    "# check null values\n",
    "df.isnull().sum().sort_values(ascending=False)\n"
   ]
  },
  {
   "cell_type": "code",
   "execution_count": 5,
   "id": "6a78d637-52e9-49bf-a7f1-c1823def8feb",
   "metadata": {},
   "outputs": [
    {
     "name": "stdout",
     "output_type": "stream",
     "text": [
      "<class 'pandas.core.frame.DataFrame'>\n",
      "RangeIndex: 4894 entries, 0 to 4893\n",
      "Data columns (total 16 columns):\n",
      " #   Column                                                           Non-Null Count  Dtype  \n",
      "---  ------                                                           --------------  -----  \n",
      " 0   First Name                                                       4894 non-null   object \n",
      " 1   Email ID                                                         4894 non-null   object \n",
      " 2   Quantity                                                         4894 non-null   int64  \n",
      " 3   Events                                                           4894 non-null   object \n",
      " 4   Attendee Status                                                  4894 non-null   object \n",
      " 5   College Name                                                     4879 non-null   object \n",
      " 6   How did you come to know about this event?                       2678 non-null   object \n",
      " 7   Specify in \"Others\" (how did you come to know about this event)  89 non-null     object \n",
      " 8   Designation                                                      4894 non-null   object \n",
      " 9   Year of Graduation                                               4894 non-null   int64  \n",
      " 10  City                                                             4894 non-null   object \n",
      " 11  CGPA                                                             4894 non-null   float64\n",
      " 12  Experience with python (Months)                                  4894 non-null   int64  \n",
      " 13  Family Income                                                    4894 non-null   object \n",
      " 14  Expected salary (Lac)                                            4894 non-null   int64  \n",
      " 15  Leadership- skills                                               4894 non-null   object \n",
      "dtypes: float64(1), int64(4), object(11)\n",
      "memory usage: 611.9+ KB\n"
     ]
    }
   ],
   "source": [
    "df.info()\n"
   ]
  },
  {
   "cell_type": "code",
   "execution_count": 6,
   "id": "e4cdfc1a-5a69-4426-945a-e78bc26ac769",
   "metadata": {},
   "outputs": [
    {
     "data": {
      "text/html": [
       "<div>\n",
       "<style scoped>\n",
       "    .dataframe tbody tr th:only-of-type {\n",
       "        vertical-align: middle;\n",
       "    }\n",
       "\n",
       "    .dataframe tbody tr th {\n",
       "        vertical-align: top;\n",
       "    }\n",
       "\n",
       "    .dataframe thead th {\n",
       "        text-align: right;\n",
       "    }\n",
       "</style>\n",
       "<table border=\"1\" class=\"dataframe\">\n",
       "  <thead>\n",
       "    <tr style=\"text-align: right;\">\n",
       "      <th></th>\n",
       "      <th>First Name</th>\n",
       "      <th>Email ID</th>\n",
       "      <th>Quantity</th>\n",
       "      <th>Events</th>\n",
       "      <th>Attendee Status</th>\n",
       "      <th>College Name</th>\n",
       "      <th>How did you come to know about this event?</th>\n",
       "      <th>Designation</th>\n",
       "      <th>Year of Graduation</th>\n",
       "      <th>City</th>\n",
       "      <th>CGPA</th>\n",
       "      <th>Experience with python (Months)</th>\n",
       "      <th>Family Income</th>\n",
       "      <th>Expected salary (Lac)</th>\n",
       "      <th>Leadership- skills</th>\n",
       "    </tr>\n",
       "  </thead>\n",
       "  <tbody>\n",
       "    <tr>\n",
       "      <th>0</th>\n",
       "      <td>ANIKET</td>\n",
       "      <td>aniket@xyz.com</td>\n",
       "      <td>1</td>\n",
       "      <td>Art of Resume Building</td>\n",
       "      <td>Attending</td>\n",
       "      <td>D Y PATIL INSTITUTE OF MCA AND MANAGEMENT AKUR...</td>\n",
       "      <td>Email</td>\n",
       "      <td>Students</td>\n",
       "      <td>2024</td>\n",
       "      <td>Patna</td>\n",
       "      <td>6.7</td>\n",
       "      <td>7</td>\n",
       "      <td>7 Lakh+</td>\n",
       "      <td>6</td>\n",
       "      <td>yes</td>\n",
       "    </tr>\n",
       "    <tr>\n",
       "      <th>1</th>\n",
       "      <td>Dhanshree</td>\n",
       "      <td>dhanshree@xyz.com</td>\n",
       "      <td>1</td>\n",
       "      <td>Art of Resume Building</td>\n",
       "      <td>Attending</td>\n",
       "      <td>AP SHAH INSTITUTE OF TECHNOLOGY</td>\n",
       "      <td>Others</td>\n",
       "      <td>Students</td>\n",
       "      <td>2024</td>\n",
       "      <td>Amravati</td>\n",
       "      <td>8.2</td>\n",
       "      <td>3</td>\n",
       "      <td>0-2 Lakh</td>\n",
       "      <td>7</td>\n",
       "      <td>no</td>\n",
       "    </tr>\n",
       "    <tr>\n",
       "      <th>2</th>\n",
       "      <td>Dhiraj</td>\n",
       "      <td>dhiraj@xyz.com</td>\n",
       "      <td>1</td>\n",
       "      <td>Art of Resume Building</td>\n",
       "      <td>Attending</td>\n",
       "      <td>Don Bosco College of Engineering Fatorda Goa</td>\n",
       "      <td>Email</td>\n",
       "      <td>Students</td>\n",
       "      <td>2023</td>\n",
       "      <td>Kunrool</td>\n",
       "      <td>6.5</td>\n",
       "      <td>4</td>\n",
       "      <td>5-7 Lakh</td>\n",
       "      <td>7</td>\n",
       "      <td>no</td>\n",
       "    </tr>\n",
       "    <tr>\n",
       "      <th>3</th>\n",
       "      <td>Pooja</td>\n",
       "      <td>pooja@xyz.com</td>\n",
       "      <td>1</td>\n",
       "      <td>Art of Resume Building</td>\n",
       "      <td>Attending</td>\n",
       "      <td>Pillai College of Engineering New Panvel</td>\n",
       "      <td>Email</td>\n",
       "      <td>Students</td>\n",
       "      <td>2025</td>\n",
       "      <td>Tirupati</td>\n",
       "      <td>8.7</td>\n",
       "      <td>7</td>\n",
       "      <td>2-5 Lakh</td>\n",
       "      <td>8</td>\n",
       "      <td>no</td>\n",
       "    </tr>\n",
       "    <tr>\n",
       "      <th>4</th>\n",
       "      <td>Aayush</td>\n",
       "      <td>aayush@xyz.com</td>\n",
       "      <td>1</td>\n",
       "      <td>Art of Resume Building</td>\n",
       "      <td>Attending</td>\n",
       "      <td>St Xavier's College</td>\n",
       "      <td>Instagram | LinkedIn | Cloud Counselage Website</td>\n",
       "      <td>Students</td>\n",
       "      <td>2024</td>\n",
       "      <td>Vijaywada</td>\n",
       "      <td>9.1</td>\n",
       "      <td>3</td>\n",
       "      <td>0-2 Lakh</td>\n",
       "      <td>10</td>\n",
       "      <td>yes</td>\n",
       "    </tr>\n",
       "  </tbody>\n",
       "</table>\n",
       "</div>"
      ],
      "text/plain": [
       "  First Name           Email ID  Quantity                  Events  \\\n",
       "0     ANIKET     aniket@xyz.com         1  Art of Resume Building   \n",
       "1  Dhanshree  dhanshree@xyz.com         1  Art of Resume Building   \n",
       "2     Dhiraj     dhiraj@xyz.com         1  Art of Resume Building   \n",
       "3      Pooja      pooja@xyz.com         1  Art of Resume Building   \n",
       "4     Aayush     aayush@xyz.com         1  Art of Resume Building   \n",
       "\n",
       "  Attendee Status                                       College Name  \\\n",
       "0       Attending  D Y PATIL INSTITUTE OF MCA AND MANAGEMENT AKUR...   \n",
       "1       Attending                   AP SHAH INSTITUTE OF TECHNOLOGY    \n",
       "2       Attending       Don Bosco College of Engineering Fatorda Goa   \n",
       "3       Attending           Pillai College of Engineering New Panvel   \n",
       "4       Attending                               St Xavier's College    \n",
       "\n",
       "        How did you come to know about this event? Designation  \\\n",
       "0                                            Email    Students   \n",
       "1                                           Others    Students   \n",
       "2                                            Email    Students   \n",
       "3                                            Email    Students   \n",
       "4  Instagram | LinkedIn | Cloud Counselage Website    Students   \n",
       "\n",
       "   Year of Graduation       City  CGPA  Experience with python (Months)  \\\n",
       "0                2024      Patna   6.7                                7   \n",
       "1                2024   Amravati   8.2                                3   \n",
       "2                2023    Kunrool   6.5                                4   \n",
       "3                2025   Tirupati   8.7                                7   \n",
       "4                2024  Vijaywada   9.1                                3   \n",
       "\n",
       "  Family Income  Expected salary (Lac) Leadership- skills  \n",
       "0       7 Lakh+                      6                yes  \n",
       "1      0-2 Lakh                      7                 no  \n",
       "2      5-7 Lakh                      7                 no  \n",
       "3      2-5 Lakh                      8                 no  \n",
       "4      0-2 Lakh                     10                yes  "
      ]
     },
     "execution_count": 6,
     "metadata": {},
     "output_type": "execute_result"
    }
   ],
   "source": [
    "# drop column which has many null values\n",
    "drop_column = 'Specify in \"Others\" (how did you come to know about this event)'\n",
    "df=df.drop(drop_column,axis=1) \n",
    "df.head()\n"
   ]
  },
  {
   "cell_type": "code",
   "execution_count": 8,
   "id": "511109f5-5b92-4324-a5c4-94da6d69f7db",
   "metadata": {},
   "outputs": [
    {
     "data": {
      "text/html": [
       "<div>\n",
       "<style scoped>\n",
       "    .dataframe tbody tr th:only-of-type {\n",
       "        vertical-align: middle;\n",
       "    }\n",
       "\n",
       "    .dataframe tbody tr th {\n",
       "        vertical-align: top;\n",
       "    }\n",
       "\n",
       "    .dataframe thead th {\n",
       "        text-align: right;\n",
       "    }\n",
       "</style>\n",
       "<table border=\"1\" class=\"dataframe\">\n",
       "  <thead>\n",
       "    <tr style=\"text-align: right;\">\n",
       "      <th></th>\n",
       "      <th>First Name</th>\n",
       "      <th>Email ID</th>\n",
       "      <th>Quantity</th>\n",
       "      <th>Events</th>\n",
       "      <th>Attendee Status</th>\n",
       "      <th>College Name</th>\n",
       "      <th>Designation</th>\n",
       "      <th>Year of Graduation</th>\n",
       "      <th>City</th>\n",
       "      <th>CGPA</th>\n",
       "      <th>Experience with python (Months)</th>\n",
       "      <th>Family Income</th>\n",
       "      <th>Expected salary (Lac)</th>\n",
       "      <th>Leadership- skills</th>\n",
       "    </tr>\n",
       "  </thead>\n",
       "  <tbody>\n",
       "    <tr>\n",
       "      <th>0</th>\n",
       "      <td>ANIKET</td>\n",
       "      <td>aniket@xyz.com</td>\n",
       "      <td>1</td>\n",
       "      <td>Art of Resume Building</td>\n",
       "      <td>Attending</td>\n",
       "      <td>D Y PATIL INSTITUTE OF MCA AND MANAGEMENT AKUR...</td>\n",
       "      <td>Students</td>\n",
       "      <td>2024</td>\n",
       "      <td>Patna</td>\n",
       "      <td>6.7</td>\n",
       "      <td>7</td>\n",
       "      <td>7 Lakh+</td>\n",
       "      <td>6</td>\n",
       "      <td>yes</td>\n",
       "    </tr>\n",
       "    <tr>\n",
       "      <th>1</th>\n",
       "      <td>Dhanshree</td>\n",
       "      <td>dhanshree@xyz.com</td>\n",
       "      <td>1</td>\n",
       "      <td>Art of Resume Building</td>\n",
       "      <td>Attending</td>\n",
       "      <td>AP SHAH INSTITUTE OF TECHNOLOGY</td>\n",
       "      <td>Students</td>\n",
       "      <td>2024</td>\n",
       "      <td>Amravati</td>\n",
       "      <td>8.2</td>\n",
       "      <td>3</td>\n",
       "      <td>0-2 Lakh</td>\n",
       "      <td>7</td>\n",
       "      <td>no</td>\n",
       "    </tr>\n",
       "    <tr>\n",
       "      <th>2</th>\n",
       "      <td>Dhiraj</td>\n",
       "      <td>dhiraj@xyz.com</td>\n",
       "      <td>1</td>\n",
       "      <td>Art of Resume Building</td>\n",
       "      <td>Attending</td>\n",
       "      <td>Don Bosco College of Engineering Fatorda Goa</td>\n",
       "      <td>Students</td>\n",
       "      <td>2023</td>\n",
       "      <td>Kunrool</td>\n",
       "      <td>6.5</td>\n",
       "      <td>4</td>\n",
       "      <td>5-7 Lakh</td>\n",
       "      <td>7</td>\n",
       "      <td>no</td>\n",
       "    </tr>\n",
       "    <tr>\n",
       "      <th>3</th>\n",
       "      <td>Pooja</td>\n",
       "      <td>pooja@xyz.com</td>\n",
       "      <td>1</td>\n",
       "      <td>Art of Resume Building</td>\n",
       "      <td>Attending</td>\n",
       "      <td>Pillai College of Engineering New Panvel</td>\n",
       "      <td>Students</td>\n",
       "      <td>2025</td>\n",
       "      <td>Tirupati</td>\n",
       "      <td>8.7</td>\n",
       "      <td>7</td>\n",
       "      <td>2-5 Lakh</td>\n",
       "      <td>8</td>\n",
       "      <td>no</td>\n",
       "    </tr>\n",
       "    <tr>\n",
       "      <th>4</th>\n",
       "      <td>Aayush</td>\n",
       "      <td>aayush@xyz.com</td>\n",
       "      <td>1</td>\n",
       "      <td>Art of Resume Building</td>\n",
       "      <td>Attending</td>\n",
       "      <td>St Xavier's College</td>\n",
       "      <td>Students</td>\n",
       "      <td>2024</td>\n",
       "      <td>Vijaywada</td>\n",
       "      <td>9.1</td>\n",
       "      <td>3</td>\n",
       "      <td>0-2 Lakh</td>\n",
       "      <td>10</td>\n",
       "      <td>yes</td>\n",
       "    </tr>\n",
       "  </tbody>\n",
       "</table>\n",
       "</div>"
      ],
      "text/plain": [
       "  First Name           Email ID  Quantity                  Events  \\\n",
       "0     ANIKET     aniket@xyz.com         1  Art of Resume Building   \n",
       "1  Dhanshree  dhanshree@xyz.com         1  Art of Resume Building   \n",
       "2     Dhiraj     dhiraj@xyz.com         1  Art of Resume Building   \n",
       "3      Pooja      pooja@xyz.com         1  Art of Resume Building   \n",
       "4     Aayush     aayush@xyz.com         1  Art of Resume Building   \n",
       "\n",
       "  Attendee Status                                       College Name  \\\n",
       "0       Attending  D Y PATIL INSTITUTE OF MCA AND MANAGEMENT AKUR...   \n",
       "1       Attending                   AP SHAH INSTITUTE OF TECHNOLOGY    \n",
       "2       Attending       Don Bosco College of Engineering Fatorda Goa   \n",
       "3       Attending           Pillai College of Engineering New Panvel   \n",
       "4       Attending                               St Xavier's College    \n",
       "\n",
       "  Designation  Year of Graduation       City  CGPA  \\\n",
       "0    Students                2024      Patna   6.7   \n",
       "1    Students                2024   Amravati   8.2   \n",
       "2    Students                2023    Kunrool   6.5   \n",
       "3    Students                2025   Tirupati   8.7   \n",
       "4    Students                2024  Vijaywada   9.1   \n",
       "\n",
       "   Experience with python (Months) Family Income  Expected salary (Lac)  \\\n",
       "0                                7       7 Lakh+                      6   \n",
       "1                                3      0-2 Lakh                      7   \n",
       "2                                4      5-7 Lakh                      7   \n",
       "3                                7      2-5 Lakh                      8   \n",
       "4                                3      0-2 Lakh                     10   \n",
       "\n",
       "  Leadership- skills  \n",
       "0                yes  \n",
       "1                 no  \n",
       "2                 no  \n",
       "3                 no  \n",
       "4                yes  "
      ]
     },
     "execution_count": 8,
     "metadata": {},
     "output_type": "execute_result"
    }
   ],
   "source": [
    "drop_column = 'How did you come to know about this event?'\n",
    "df=df.drop(drop_column,axis=1) \n",
    "df.head()\n"
   ]
  },
  {
   "cell_type": "code",
   "execution_count": 9,
   "id": "6496f5d4-7551-430b-b929-bf4480b0a09f",
   "metadata": {},
   "outputs": [
    {
     "data": {
      "text/plain": [
       "College Name                       15\n",
       "First Name                          0\n",
       "Email ID                            0\n",
       "Quantity                            0\n",
       "Events                              0\n",
       "Attendee Status                     0\n",
       "Designation                         0\n",
       "Year of Graduation                  0\n",
       "City                                0\n",
       "CGPA                                0\n",
       "Experience with python (Months)     0\n",
       "Family Income                       0\n",
       "Expected salary (Lac)               0\n",
       "Leadership- skills                  0\n",
       "dtype: int64"
      ]
     },
     "execution_count": 9,
     "metadata": {},
     "output_type": "execute_result"
    }
   ],
   "source": [
    "df.isnull().sum().sort_values(ascending=False)\n"
   ]
  },
  {
   "cell_type": "code",
   "execution_count": 10,
   "id": "d600ef77-8f09-45b8-bcfe-d8d9590867c7",
   "metadata": {},
   "outputs": [
    {
     "data": {
      "text/html": [
       "<div>\n",
       "<style scoped>\n",
       "    .dataframe tbody tr th:only-of-type {\n",
       "        vertical-align: middle;\n",
       "    }\n",
       "\n",
       "    .dataframe tbody tr th {\n",
       "        vertical-align: top;\n",
       "    }\n",
       "\n",
       "    .dataframe thead th {\n",
       "        text-align: right;\n",
       "    }\n",
       "</style>\n",
       "<table border=\"1\" class=\"dataframe\">\n",
       "  <thead>\n",
       "    <tr style=\"text-align: right;\">\n",
       "      <th></th>\n",
       "      <th>Quantity</th>\n",
       "      <th>Year of Graduation</th>\n",
       "      <th>CGPA</th>\n",
       "      <th>Experience with python (Months)</th>\n",
       "      <th>Expected salary (Lac)</th>\n",
       "    </tr>\n",
       "  </thead>\n",
       "  <tbody>\n",
       "    <tr>\n",
       "      <th>count</th>\n",
       "      <td>4894.0</td>\n",
       "      <td>4894.000000</td>\n",
       "      <td>4894.000000</td>\n",
       "      <td>4894.000000</td>\n",
       "      <td>4894.000000</td>\n",
       "    </tr>\n",
       "    <tr>\n",
       "      <th>mean</th>\n",
       "      <td>1.0</td>\n",
       "      <td>2024.176951</td>\n",
       "      <td>8.038476</td>\n",
       "      <td>5.395586</td>\n",
       "      <td>13.935635</td>\n",
       "    </tr>\n",
       "    <tr>\n",
       "      <th>std</th>\n",
       "      <td>0.0</td>\n",
       "      <td>1.000180</td>\n",
       "      <td>1.005184</td>\n",
       "      <td>1.705364</td>\n",
       "      <td>6.451959</td>\n",
       "    </tr>\n",
       "    <tr>\n",
       "      <th>min</th>\n",
       "      <td>1.0</td>\n",
       "      <td>2023.000000</td>\n",
       "      <td>6.200000</td>\n",
       "      <td>3.000000</td>\n",
       "      <td>5.000000</td>\n",
       "    </tr>\n",
       "    <tr>\n",
       "      <th>25%</th>\n",
       "      <td>1.0</td>\n",
       "      <td>2023.000000</td>\n",
       "      <td>7.200000</td>\n",
       "      <td>4.000000</td>\n",
       "      <td>8.000000</td>\n",
       "    </tr>\n",
       "    <tr>\n",
       "      <th>50%</th>\n",
       "      <td>1.0</td>\n",
       "      <td>2024.000000</td>\n",
       "      <td>7.900000</td>\n",
       "      <td>5.000000</td>\n",
       "      <td>13.000000</td>\n",
       "    </tr>\n",
       "    <tr>\n",
       "      <th>75%</th>\n",
       "      <td>1.0</td>\n",
       "      <td>2025.000000</td>\n",
       "      <td>8.900000</td>\n",
       "      <td>7.000000</td>\n",
       "      <td>19.000000</td>\n",
       "    </tr>\n",
       "    <tr>\n",
       "      <th>max</th>\n",
       "      <td>1.0</td>\n",
       "      <td>2026.000000</td>\n",
       "      <td>9.900000</td>\n",
       "      <td>8.000000</td>\n",
       "      <td>35.000000</td>\n",
       "    </tr>\n",
       "  </tbody>\n",
       "</table>\n",
       "</div>"
      ],
      "text/plain": [
       "       Quantity  Year of Graduation         CGPA  \\\n",
       "count    4894.0         4894.000000  4894.000000   \n",
       "mean        1.0         2024.176951     8.038476   \n",
       "std         0.0            1.000180     1.005184   \n",
       "min         1.0         2023.000000     6.200000   \n",
       "25%         1.0         2023.000000     7.200000   \n",
       "50%         1.0         2024.000000     7.900000   \n",
       "75%         1.0         2025.000000     8.900000   \n",
       "max         1.0         2026.000000     9.900000   \n",
       "\n",
       "       Experience with python (Months)  Expected salary (Lac)  \n",
       "count                      4894.000000            4894.000000  \n",
       "mean                          5.395586              13.935635  \n",
       "std                           1.705364               6.451959  \n",
       "min                           3.000000               5.000000  \n",
       "25%                           4.000000               8.000000  \n",
       "50%                           5.000000              13.000000  \n",
       "75%                           7.000000              19.000000  \n",
       "max                           8.000000              35.000000  "
      ]
     },
     "execution_count": 10,
     "metadata": {},
     "output_type": "execute_result"
    }
   ],
   "source": [
    "# describe data\n",
    "df.describe()\n"
   ]
  },
  {
   "cell_type": "code",
   "execution_count": 11,
   "id": "65907e96-aebc-4be3-b40c-09a562a37560",
   "metadata": {},
   "outputs": [
    {
     "data": {
      "text/plain": [
       "Index(['First Name', 'Email ID', 'Quantity', 'Events', 'Attendee Status',\n",
       "       'College Name', 'Designation', 'Year of Graduation', 'City', 'CGPA',\n",
       "       'Experience with python (Months)', 'Family Income',\n",
       "       'Expected salary (Lac)', 'Leadership- skills'],\n",
       "      dtype='object')"
      ]
     },
     "execution_count": 11,
     "metadata": {},
     "output_type": "execute_result"
    }
   ],
   "source": [
    "df.columns"
   ]
  },
  {
   "cell_type": "code",
   "execution_count": 13,
   "id": "0a6735fc-e9e1-4795-93fc-ed494c8d78e2",
   "metadata": {},
   "outputs": [
    {
     "data": {
      "text/plain": [
       "Index(['First_Name', 'Email_ID', 'Quantity', 'Events', 'Attendee_Status',\n",
       "       'College_Name', 'Designation', 'Graduation_year', 'City', 'CGPA',\n",
       "       'Month_of_exp_python', 'Family_Income', 'Expected_salary_lac',\n",
       "       'Leadership_skills'],\n",
       "      dtype='object')"
      ]
     },
     "execution_count": 13,
     "metadata": {},
     "output_type": "execute_result"
    }
   ],
   "source": [
    "# change the columns name for better understanding\n",
    "new_col_name = {'First Name':'First_Name', \n",
    " 'Email ID':'Email_ID', \n",
    " 'Attendee Status':'Attendee_Status',\n",
    " 'College Name':'College_Name', \n",
    " 'Year of Graduation':'Graduation_year',\n",
    " 'Experience with python (Months)':'Month_of_exp_python', \n",
    " 'Family Income':'Family_Income',\n",
    " 'Expected salary (Lac)':'Expected_salary_lac', \n",
    " 'Leadership- skills':'Leadership_skills'\n",
    " }\n",
    "df.rename(columns=new_col_name, inplace=True)\n",
    "df.columns\n"
   ]
  },
  {
   "cell_type": "code",
   "execution_count": 14,
   "id": "81448307-2be3-4e08-a779-049f55b091b8",
   "metadata": {},
   "outputs": [
    {
     "data": {
      "text/plain": [
       "0    priyadarshini college of engineering, nagpur \n",
       "Name: College_Name, dtype: object"
      ]
     },
     "execution_count": 14,
     "metadata": {},
     "output_type": "execute_result"
    }
   ],
   "source": [
    "# check mode() of College_name column\n",
    "df['College_Name'].mode()\n"
   ]
  },
  {
   "cell_type": "code",
   "execution_count": 15,
   "id": "f8410872-e208-4aed-9eff-3fb56cd54eba",
   "metadata": {},
   "outputs": [],
   "source": [
    "# replace the null values with mode.\n",
    "df['College_Name'].fillna(df['College_Name'].mode()[0], inplace=True)\n"
   ]
  },
  {
   "cell_type": "code",
   "execution_count": 16,
   "id": "374fa4b3-1e19-4265-a105-2da755e2916d",
   "metadata": {},
   "outputs": [
    {
     "data": {
      "text/plain": [
       "0"
      ]
     },
     "execution_count": 16,
     "metadata": {},
     "output_type": "execute_result"
    }
   ],
   "source": [
    "# 0 dulicates value\n",
    "df.duplicated().sum()\n"
   ]
  },
  {
   "cell_type": "code",
   "execution_count": 17,
   "id": "957741a9-7c4d-4496-97bc-669ff8d51952",
   "metadata": {},
   "outputs": [
    {
     "data": {
      "text/plain": [
       "First_Name             0\n",
       "Email_ID               0\n",
       "Quantity               0\n",
       "Events                 0\n",
       "Attendee_Status        0\n",
       "College_Name           0\n",
       "Designation            0\n",
       "Graduation_year        0\n",
       "City                   0\n",
       "CGPA                   0\n",
       "Month_of_exp_python    0\n",
       "Family_Income          0\n",
       "Expected_salary_lac    0\n",
       "Leadership_skills      0\n",
       "dtype: int64"
      ]
     },
     "execution_count": 17,
     "metadata": {},
     "output_type": "execute_result"
    }
   ],
   "source": [
    "# there is no null values remain\n",
    "df.isnull().sum().sort_values(ascending=False)"
   ]
  },
  {
   "cell_type": "markdown",
   "id": "ffb45028-ea38-4936-b5bb-24cc4701ffb1",
   "metadata": {},
   "source": [
    "## Data Analysis\n",
    "\r",
    "## Basic Questions:\n",
    "\r",
    "### 1) How many unique students are included in the dataset?"
   ]
  },
  {
   "cell_type": "code",
   "execution_count": 19,
   "id": "147eb5cb-fa89-410f-8ce3-70814b35e3b3",
   "metadata": {},
   "outputs": [
    {
     "data": {
      "text/plain": [
       "2324"
      ]
     },
     "execution_count": 19,
     "metadata": {},
     "output_type": "execute_result"
    }
   ],
   "source": [
    "no_of_uni_stud = len(df['First_Name'].unique())\n",
    "no_of_uni_stud\n"
   ]
  },
  {
   "cell_type": "markdown",
   "id": "9edf07ba-18cb-4458-bc1e-8cb5718fb541",
   "metadata": {},
   "source": [
    "#### CONCLUSION:\n",
    "#### 2324 unique students included in the dataset.there are same name of students present."
   ]
  },
  {
   "cell_type": "markdown",
   "id": "84c68d85-c768-410a-a2ea-8beb568ce3b1",
   "metadata": {},
   "source": [
    "### 2) What is the average GPA of the students?"
   ]
  },
  {
   "cell_type": "code",
   "execution_count": 20,
   "id": "b69c5c23-949a-440e-b41d-7cbf78516a22",
   "metadata": {},
   "outputs": [
    {
     "data": {
      "text/plain": [
       "8.038475684511619"
      ]
     },
     "execution_count": 20,
     "metadata": {},
     "output_type": "execute_result"
    }
   ],
   "source": [
    "avg_gpa = sum(df['CGPA']) / len(df['CGPA'])\n",
    "avg_gpa"
   ]
  },
  {
   "cell_type": "code",
   "execution_count": 21,
   "id": "54a0a8b6-7a88-4038-a784-ae825457e5ff",
   "metadata": {},
   "outputs": [
    {
     "data": {
      "text/plain": [
       "8.038475684511647"
      ]
     },
     "execution_count": 21,
     "metadata": {},
     "output_type": "execute_result"
    }
   ],
   "source": [
    "df['CGPA'].mean()"
   ]
  },
  {
   "cell_type": "markdown",
   "id": "8942dcfa-920f-49e4-8425-2f2d4f83e89e",
   "metadata": {},
   "source": [
    "#### CONCLUSION:\n",
    "#### The average GPA of the students is 8.038475684511647."
   ]
  },
  {
   "cell_type": "markdown",
   "id": "2e7eb6bb-6700-4dd2-aa52-ae7bd1ec7161",
   "metadata": {},
   "source": [
    "## 3) What is the distribution of students across different graduation years?\n"
   ]
  },
  {
   "cell_type": "code",
   "execution_count": 23,
   "id": "e2c6f4cb-2fd0-4f51-b99b-e0a62d1ddb49",
   "metadata": {},
   "outputs": [
    {
     "name": "stdout",
     "output_type": "stream",
     "text": [
      "Distribution of students across graduation years:\n",
      " 2023    1536\n",
      "2024    1511\n",
      "2025    1292\n",
      "2026     555\n",
      "Name: Graduation_year, dtype: int64\n"
     ]
    },
    {
     "data": {
      "image/png": "[encoded data removed]",
      "text/plain": [
       "<Figure size 800x400 with 1 Axes>"
      ]
     },
     "metadata": {},
     "output_type": "display_data"
    }
   ],
   "source": [
    "graduation_year_distribution = df['Graduation_year'].value_counts() \n",
    "print(\"Distribution of students across graduation years:\\n\", graduation_year_distribution)\n",
    "\n",
    "plt.figure(figsize=(8, 4))\n",
    "sns.countplot(data=df, x='Graduation_year')\n",
    "plt.title('Distribution of students across graduation years')\n",
    "plt.xlabel('Graduation_Year')\n",
    "plt.ylabel('Count')\n",
    "plt.xticks(rotation=45)\n",
    "plt.show()"
   ]
  },
  {
   "cell_type": "markdown",
   "id": "a1c25e97-99b0-43e4-b23a-5671017c11e3",
   "metadata": {},
   "source": [
    "#### CONCLUSION:\n",
    "#### Most of students are passout in 2023-2024 year."
   ]
  },
  {
   "cell_type": "markdown",
   "id": "c41fcbdf-f3c3-4b12-953e-047bb142f8b9",
   "metadata": {},
   "source": [
    "## 4) What is the distribution of student’s experience with Python programming?"
   ]
  },
  {
   "cell_type": "code",
   "execution_count": 24,
   "id": "fa158258-cf4e-481b-82a0-9ebfe723e36f",
   "metadata": {},
   "outputs": [
    {
     "name": "stdout",
     "output_type": "stream",
     "text": [
      "Distribution of student's experience with Python:\n",
      " 5    1242\n",
      "3    1008\n",
      "8     800\n",
      "6     738\n",
      "7     640\n",
      "4     466\n",
      "Name: Month_of_exp_python, dtype: int64\n"
     ]
    }
   ],
   "source": [
    "python_experience_distribution = df['Month_of_exp_python'].value_counts() \n",
    "print(\"Distribution of student's experience with Python:\\n\", python_experience_distribution)"
   ]
  },
  {
   "cell_type": "markdown",
   "id": "fa038ced-39f7-4248-b613-fc285dea196f",
   "metadata": {},
   "source": [
    "##### CONCLUSION:\n",
    "##### There is only 800 student have 8 years of experience, and most of student has experience of 3-5 years."
   ]
  },
  {
   "cell_type": "markdown",
   "id": "af88998b-9c1e-407c-8d7b-94b045d0d24a",
   "metadata": {},
   "source": [
    "## 5) What is the average family income of the student?\n"
   ]
  },
  {
   "cell_type": "code",
   "execution_count": 31,
   "id": "9069d3da-1344-4f2e-8123-835d989befec",
   "metadata": {},
   "outputs": [
    {
     "data": {
      "text/plain": [
       "0    0-2 Lakh\n",
       "Name: Family_Income, dtype: object"
      ]
     },
     "execution_count": 31,
     "metadata": {},
     "output_type": "execute_result"
    }
   ],
   "source": [
    "df['Family_Income'].mode()"
   ]
  },
  {
   "cell_type": "code",
   "execution_count": 33,
   "id": "b8be887d-7042-457e-beec-090db29583b6",
   "metadata": {},
   "outputs": [
    {
     "data": {
      "text/plain": [
       "0         7\n",
       "1       0-2\n",
       "2       5-7\n",
       "3       2-5\n",
       "4       0-2\n",
       "       ... \n",
       "4889    0-2\n",
       "4890    0-2\n",
       "4891    0-2\n",
       "4892    0-2\n",
       "4893    0-2\n",
       "Name: Extracted, Length: 4894, dtype: object"
      ]
     },
     "execution_count": 33,
     "metadata": {},
     "output_type": "execute_result"
    }
   ],
   "source": [
    "df['Extracted'] = df['Family_Income'].str.split(' ').str[0]\n",
    "df['Extracted']"
   ]
  },
  {
   "cell_type": "code",
   "execution_count": 34,
   "id": "6c57347b-19b1-471f-b553-bdeaf9a53092",
   "metadata": {},
   "outputs": [],
   "source": [
    "df['Family_Income'] = pd.to_numeric(df['Family_Income'], errors='coerce').astype('Int64')"
   ]
  },
  {
   "cell_type": "code",
   "execution_count": 36,
   "id": "62587ecd-5d38-41f5-8b5c-d73cd9958842",
   "metadata": {},
   "outputs": [
    {
     "data": {
      "text/html": [
       "<div>\n",
       "<style scoped>\n",
       "    .dataframe tbody tr th:only-of-type {\n",
       "        vertical-align: middle;\n",
       "    }\n",
       "\n",
       "    .dataframe tbody tr th {\n",
       "        vertical-align: top;\n",
       "    }\n",
       "\n",
       "    .dataframe thead th {\n",
       "        text-align: right;\n",
       "    }\n",
       "</style>\n",
       "<table border=\"1\" class=\"dataframe\">\n",
       "  <thead>\n",
       "    <tr style=\"text-align: right;\">\n",
       "      <th></th>\n",
       "      <th>First_Name</th>\n",
       "      <th>Email_ID</th>\n",
       "      <th>Quantity</th>\n",
       "      <th>Events</th>\n",
       "      <th>Attendee_Status</th>\n",
       "      <th>College_Name</th>\n",
       "      <th>Designation</th>\n",
       "      <th>Graduation_year</th>\n",
       "      <th>City</th>\n",
       "      <th>CGPA</th>\n",
       "      <th>Month_of_exp_python</th>\n",
       "      <th>Family_Income</th>\n",
       "      <th>Expected_salary_lac</th>\n",
       "      <th>Leadership_skills</th>\n",
       "      <th>Extracted</th>\n",
       "    </tr>\n",
       "  </thead>\n",
       "  <tbody>\n",
       "    <tr>\n",
       "      <th>0</th>\n",
       "      <td>ANIKET</td>\n",
       "      <td>aniket@xyz.com</td>\n",
       "      <td>1</td>\n",
       "      <td>Art of Resume Building</td>\n",
       "      <td>Attending</td>\n",
       "      <td>D Y PATIL INSTITUTE OF MCA AND MANAGEMENT AKUR...</td>\n",
       "      <td>Students</td>\n",
       "      <td>2024</td>\n",
       "      <td>Patna</td>\n",
       "      <td>6.7</td>\n",
       "      <td>7</td>\n",
       "      <td>7</td>\n",
       "      <td>6</td>\n",
       "      <td>yes</td>\n",
       "      <td>7</td>\n",
       "    </tr>\n",
       "    <tr>\n",
       "      <th>1</th>\n",
       "      <td>Dhanshree</td>\n",
       "      <td>dhanshree@xyz.com</td>\n",
       "      <td>1</td>\n",
       "      <td>Art of Resume Building</td>\n",
       "      <td>Attending</td>\n",
       "      <td>AP SHAH INSTITUTE OF TECHNOLOGY</td>\n",
       "      <td>Students</td>\n",
       "      <td>2024</td>\n",
       "      <td>Amravati</td>\n",
       "      <td>8.2</td>\n",
       "      <td>3</td>\n",
       "      <td>0-2</td>\n",
       "      <td>7</td>\n",
       "      <td>no</td>\n",
       "      <td>0-2</td>\n",
       "    </tr>\n",
       "    <tr>\n",
       "      <th>2</th>\n",
       "      <td>Dhiraj</td>\n",
       "      <td>dhiraj@xyz.com</td>\n",
       "      <td>1</td>\n",
       "      <td>Art of Resume Building</td>\n",
       "      <td>Attending</td>\n",
       "      <td>Don Bosco College of Engineering Fatorda Goa</td>\n",
       "      <td>Students</td>\n",
       "      <td>2023</td>\n",
       "      <td>Kunrool</td>\n",
       "      <td>6.5</td>\n",
       "      <td>4</td>\n",
       "      <td>5-7</td>\n",
       "      <td>7</td>\n",
       "      <td>no</td>\n",
       "      <td>5-7</td>\n",
       "    </tr>\n",
       "    <tr>\n",
       "      <th>3</th>\n",
       "      <td>Pooja</td>\n",
       "      <td>pooja@xyz.com</td>\n",
       "      <td>1</td>\n",
       "      <td>Art of Resume Building</td>\n",
       "      <td>Attending</td>\n",
       "      <td>Pillai College of Engineering New Panvel</td>\n",
       "      <td>Students</td>\n",
       "      <td>2025</td>\n",
       "      <td>Tirupati</td>\n",
       "      <td>8.7</td>\n",
       "      <td>7</td>\n",
       "      <td>2-5</td>\n",
       "      <td>8</td>\n",
       "      <td>no</td>\n",
       "      <td>2-5</td>\n",
       "    </tr>\n",
       "    <tr>\n",
       "      <th>4</th>\n",
       "      <td>Aayush</td>\n",
       "      <td>aayush@xyz.com</td>\n",
       "      <td>1</td>\n",
       "      <td>Art of Resume Building</td>\n",
       "      <td>Attending</td>\n",
       "      <td>St Xavier's College</td>\n",
       "      <td>Students</td>\n",
       "      <td>2024</td>\n",
       "      <td>Vijaywada</td>\n",
       "      <td>9.1</td>\n",
       "      <td>3</td>\n",
       "      <td>0-2</td>\n",
       "      <td>10</td>\n",
       "      <td>yes</td>\n",
       "      <td>0-2</td>\n",
       "    </tr>\n",
       "  </tbody>\n",
       "</table>\n",
       "</div>"
      ],
      "text/plain": [
       "  First_Name           Email_ID  Quantity                  Events  \\\n",
       "0     ANIKET     aniket@xyz.com         1  Art of Resume Building   \n",
       "1  Dhanshree  dhanshree@xyz.com         1  Art of Resume Building   \n",
       "2     Dhiraj     dhiraj@xyz.com         1  Art of Resume Building   \n",
       "3      Pooja      pooja@xyz.com         1  Art of Resume Building   \n",
       "4     Aayush     aayush@xyz.com         1  Art of Resume Building   \n",
       "\n",
       "  Attendee_Status                                       College_Name  \\\n",
       "0       Attending  D Y PATIL INSTITUTE OF MCA AND MANAGEMENT AKUR...   \n",
       "1       Attending                   AP SHAH INSTITUTE OF TECHNOLOGY    \n",
       "2       Attending       Don Bosco College of Engineering Fatorda Goa   \n",
       "3       Attending           Pillai College of Engineering New Panvel   \n",
       "4       Attending                               St Xavier's College    \n",
       "\n",
       "  Designation  Graduation_year       City  CGPA  Month_of_exp_python  \\\n",
       "0    Students             2024      Patna   6.7                    7   \n",
       "1    Students             2024   Amravati   8.2                    3   \n",
       "2    Students             2023    Kunrool   6.5                    4   \n",
       "3    Students             2025   Tirupati   8.7                    7   \n",
       "4    Students             2024  Vijaywada   9.1                    3   \n",
       "\n",
       "  Family_Income  Expected_salary_lac Leadership_skills Extracted  \n",
       "0             7                    6               yes         7  \n",
       "1           0-2                    7                no       0-2  \n",
       "2           5-7                    7                no       5-7  \n",
       "3           2-5                    8                no       2-5  \n",
       "4           0-2                   10               yes       0-2  "
      ]
     },
     "execution_count": 36,
     "metadata": {},
     "output_type": "execute_result"
    }
   ],
   "source": [
    "df['Family_Income']=df['Extracted']\n",
    "df.head()\n"
   ]
  },
  {
   "cell_type": "code",
   "execution_count": 37,
   "id": "7140df72-2927-4fa7-b477-da25c359de03",
   "metadata": {},
   "outputs": [
    {
     "data": {
      "text/plain": [
       "0       7\n",
       "1       0\n",
       "2       5\n",
       "3       2\n",
       "4       0\n",
       "       ..\n",
       "4889    0\n",
       "4890    0\n",
       "4891    0\n",
       "4892    0\n",
       "4893    0\n",
       "Name: Family_in_1, Length: 4894, dtype: object"
      ]
     },
     "execution_count": 37,
     "metadata": {},
     "output_type": "execute_result"
    }
   ],
   "source": [
    "df['Family_in_1'] = df['Family_Income'].str.split('').str[1]\n",
    "df['Family_in_1']\n"
   ]
  },
  {
   "cell_type": "code",
   "execution_count": 38,
   "id": "6d305913-0424-4418-94af-5117c25b1fd0",
   "metadata": {},
   "outputs": [
    {
     "data": {
      "text/plain": [
       "0       NaN\n",
       "1         2\n",
       "2         7\n",
       "3         5\n",
       "4         2\n",
       "       ... \n",
       "4889      2\n",
       "4890      2\n",
       "4891      2\n",
       "4892      2\n",
       "4893      2\n",
       "Name: Family_in_2, Length: 4894, dtype: object"
      ]
     },
     "execution_count": 38,
     "metadata": {},
     "output_type": "execute_result"
    }
   ],
   "source": [
    "df['Family_in_2'] = df['Family_Income'].str.split('').str[3]\n",
    "df['Family_in_2']\n"
   ]
  },
  {
   "cell_type": "code",
   "execution_count": 39,
   "id": "09e415b3-cccf-4e65-8a00-224dba1a0c2b",
   "metadata": {},
   "outputs": [],
   "source": [
    "# Convert the \"object\" column to \"int\"\n",
    "df['Family_in_1'] = pd.to_numeric(df['Family_in_1'], errors='coerce').astype('Int64')\n",
    "# Convert the \"object\" column to \"int\"\n",
    "df['Family_in_2'] = pd.to_numeric(df['Family_in_2'], errors='coerce').astype('Int64')\n"
   ]
  },
  {
   "cell_type": "code",
   "execution_count": 40,
   "id": "df05449e-d01d-4e51-a568-e26be7e1c70d",
   "metadata": {},
   "outputs": [],
   "source": [
    "df['Family_in_2'].fillna(0, inplace=True)\n"
   ]
  },
  {
   "cell_type": "code",
   "execution_count": 41,
   "id": "75a3336c-c456-49e1-8dee-de6f654d8de1",
   "metadata": {},
   "outputs": [
    {
     "data": {
      "text/html": [
       "<div>\n",
       "<style scoped>\n",
       "    .dataframe tbody tr th:only-of-type {\n",
       "        vertical-align: middle;\n",
       "    }\n",
       "\n",
       "    .dataframe tbody tr th {\n",
       "        vertical-align: top;\n",
       "    }\n",
       "\n",
       "    .dataframe thead th {\n",
       "        text-align: right;\n",
       "    }\n",
       "</style>\n",
       "<table border=\"1\" class=\"dataframe\">\n",
       "  <thead>\n",
       "    <tr style=\"text-align: right;\">\n",
       "      <th></th>\n",
       "      <th>Family_in_1</th>\n",
       "      <th>Family_in_2</th>\n",
       "    </tr>\n",
       "  </thead>\n",
       "  <tbody>\n",
       "    <tr>\n",
       "      <th>0</th>\n",
       "      <td>7</td>\n",
       "      <td>0</td>\n",
       "    </tr>\n",
       "    <tr>\n",
       "      <th>1</th>\n",
       "      <td>0</td>\n",
       "      <td>2</td>\n",
       "    </tr>\n",
       "    <tr>\n",
       "      <th>2</th>\n",
       "      <td>5</td>\n",
       "      <td>7</td>\n",
       "    </tr>\n",
       "    <tr>\n",
       "      <th>3</th>\n",
       "      <td>2</td>\n",
       "      <td>5</td>\n",
       "    </tr>\n",
       "    <tr>\n",
       "      <th>4</th>\n",
       "      <td>0</td>\n",
       "      <td>2</td>\n",
       "    </tr>\n",
       "  </tbody>\n",
       "</table>\n",
       "</div>"
      ],
      "text/plain": [
       "   Family_in_1  Family_in_2\n",
       "0            7            0\n",
       "1            0            2\n",
       "2            5            7\n",
       "3            2            5\n",
       "4            0            2"
      ]
     },
     "execution_count": 41,
     "metadata": {},
     "output_type": "execute_result"
    }
   ],
   "source": [
    "selected_col = ['Family_in_1','Family_in_2']\n",
    "subset_FI = df[selected_col]\n",
    "subset_FI.head()\n"
   ]
  },
  {
   "cell_type": "code",
   "execution_count": 42,
   "id": "958a3ac3-53fd-4c93-b408-75b9a817466b",
   "metadata": {},
   "outputs": [
    {
     "name": "stdout",
     "output_type": "stream",
     "text": [
      "<class 'pandas.core.frame.DataFrame'>\n",
      "RangeIndex: 4894 entries, 0 to 4893\n",
      "Data columns (total 2 columns):\n",
      " #   Column       Non-Null Count  Dtype\n",
      "---  ------       --------------  -----\n",
      " 0   Family_in_1  4894 non-null   Int64\n",
      " 1   Family_in_2  4894 non-null   Int64\n",
      "dtypes: Int64(2)\n",
      "memory usage: 86.2 KB\n"
     ]
    }
   ],
   "source": [
    "subset_FI.info()\n"
   ]
  },
  {
   "cell_type": "code",
   "execution_count": 43,
   "id": "312cdd5e-0a1b-4e77-970a-c61e4493b25a",
   "metadata": {},
   "outputs": [
    {
     "data": {
      "text/plain": [
       "0       7.0\n",
       "1       1.0\n",
       "2       8.5\n",
       "3       4.5\n",
       "4       1.0\n",
       "       ... \n",
       "4889    1.0\n",
       "4890    1.0\n",
       "4891    1.0\n",
       "4892    1.0\n",
       "4893    1.0\n",
       "Length: 4894, dtype: Float64"
      ]
     },
     "execution_count": 43,
     "metadata": {},
     "output_type": "execute_result"
    }
   ],
   "source": [
    "# Calculate the average of values from Family_in_1 and Family_in_2\n",
    "avg = (df['Family_in_1'] + df['Family_in_2'] / 2)\n",
    "avg\n"
   ]
  },
  {
   "cell_type": "code",
   "execution_count": 44,
   "id": "164dd606-d265-4741-98ad-4b6825173399",
   "metadata": {},
   "outputs": [
    {
     "data": {
      "text/html": [
       "<div>\n",
       "<style scoped>\n",
       "    .dataframe tbody tr th:only-of-type {\n",
       "        vertical-align: middle;\n",
       "    }\n",
       "\n",
       "    .dataframe tbody tr th {\n",
       "        vertical-align: top;\n",
       "    }\n",
       "\n",
       "    .dataframe thead th {\n",
       "        text-align: right;\n",
       "    }\n",
       "</style>\n",
       "<table border=\"1\" class=\"dataframe\">\n",
       "  <thead>\n",
       "    <tr style=\"text-align: right;\">\n",
       "      <th></th>\n",
       "      <th>First_Name</th>\n",
       "      <th>Email_ID</th>\n",
       "      <th>Quantity</th>\n",
       "      <th>Events</th>\n",
       "      <th>Attendee_Status</th>\n",
       "      <th>College_Name</th>\n",
       "      <th>Designation</th>\n",
       "      <th>Graduation_year</th>\n",
       "      <th>City</th>\n",
       "      <th>CGPA</th>\n",
       "      <th>Month_of_exp_python</th>\n",
       "      <th>Expected_salary_lac</th>\n",
       "      <th>Leadership_skills</th>\n",
       "      <th>Extracted</th>\n",
       "      <th>Family_in_1</th>\n",
       "      <th>Family_in_2</th>\n",
       "    </tr>\n",
       "  </thead>\n",
       "  <tbody>\n",
       "    <tr>\n",
       "      <th>0</th>\n",
       "      <td>ANIKET</td>\n",
       "      <td>aniket@xyz.com</td>\n",
       "      <td>1</td>\n",
       "      <td>Art of Resume Building</td>\n",
       "      <td>Attending</td>\n",
       "      <td>D Y PATIL INSTITUTE OF MCA AND MANAGEMENT AKUR...</td>\n",
       "      <td>Students</td>\n",
       "      <td>2024</td>\n",
       "      <td>Patna</td>\n",
       "      <td>6.7</td>\n",
       "      <td>7</td>\n",
       "      <td>6</td>\n",
       "      <td>yes</td>\n",
       "      <td>7</td>\n",
       "      <td>7</td>\n",
       "      <td>0</td>\n",
       "    </tr>\n",
       "    <tr>\n",
       "      <th>1</th>\n",
       "      <td>Dhanshree</td>\n",
       "      <td>dhanshree@xyz.com</td>\n",
       "      <td>1</td>\n",
       "      <td>Art of Resume Building</td>\n",
       "      <td>Attending</td>\n",
       "      <td>AP SHAH INSTITUTE OF TECHNOLOGY</td>\n",
       "      <td>Students</td>\n",
       "      <td>2024</td>\n",
       "      <td>Amravati</td>\n",
       "      <td>8.2</td>\n",
       "      <td>3</td>\n",
       "      <td>7</td>\n",
       "      <td>no</td>\n",
       "      <td>0-2</td>\n",
       "      <td>0</td>\n",
       "      <td>2</td>\n",
       "    </tr>\n",
       "    <tr>\n",
       "      <th>2</th>\n",
       "      <td>Dhiraj</td>\n",
       "      <td>dhiraj@xyz.com</td>\n",
       "      <td>1</td>\n",
       "      <td>Art of Resume Building</td>\n",
       "      <td>Attending</td>\n",
       "      <td>Don Bosco College of Engineering Fatorda Goa</td>\n",
       "      <td>Students</td>\n",
       "      <td>2023</td>\n",
       "      <td>Kunrool</td>\n",
       "      <td>6.5</td>\n",
       "      <td>4</td>\n",
       "      <td>7</td>\n",
       "      <td>no</td>\n",
       "      <td>5-7</td>\n",
       "      <td>5</td>\n",
       "      <td>7</td>\n",
       "    </tr>\n",
       "    <tr>\n",
       "      <th>3</th>\n",
       "      <td>Pooja</td>\n",
       "      <td>pooja@xyz.com</td>\n",
       "      <td>1</td>\n",
       "      <td>Art of Resume Building</td>\n",
       "      <td>Attending</td>\n",
       "      <td>Pillai College of Engineering New Panvel</td>\n",
       "      <td>Students</td>\n",
       "      <td>2025</td>\n",
       "      <td>Tirupati</td>\n",
       "      <td>8.7</td>\n",
       "      <td>7</td>\n",
       "      <td>8</td>\n",
       "      <td>no</td>\n",
       "      <td>2-5</td>\n",
       "      <td>2</td>\n",
       "      <td>5</td>\n",
       "    </tr>\n",
       "    <tr>\n",
       "      <th>4</th>\n",
       "      <td>Aayush</td>\n",
       "      <td>aayush@xyz.com</td>\n",
       "      <td>1</td>\n",
       "      <td>Art of Resume Building</td>\n",
       "      <td>Attending</td>\n",
       "      <td>St Xavier's College</td>\n",
       "      <td>Students</td>\n",
       "      <td>2024</td>\n",
       "      <td>Vijaywada</td>\n",
       "      <td>9.1</td>\n",
       "      <td>3</td>\n",
       "      <td>10</td>\n",
       "      <td>yes</td>\n",
       "      <td>0-2</td>\n",
       "      <td>0</td>\n",
       "      <td>2</td>\n",
       "    </tr>\n",
       "  </tbody>\n",
       "</table>\n",
       "</div>"
      ],
      "text/plain": [
       "  First_Name           Email_ID  Quantity                  Events  \\\n",
       "0     ANIKET     aniket@xyz.com         1  Art of Resume Building   \n",
       "1  Dhanshree  dhanshree@xyz.com         1  Art of Resume Building   \n",
       "2     Dhiraj     dhiraj@xyz.com         1  Art of Resume Building   \n",
       "3      Pooja      pooja@xyz.com         1  Art of Resume Building   \n",
       "4     Aayush     aayush@xyz.com         1  Art of Resume Building   \n",
       "\n",
       "  Attendee_Status                                       College_Name  \\\n",
       "0       Attending  D Y PATIL INSTITUTE OF MCA AND MANAGEMENT AKUR...   \n",
       "1       Attending                   AP SHAH INSTITUTE OF TECHNOLOGY    \n",
       "2       Attending       Don Bosco College of Engineering Fatorda Goa   \n",
       "3       Attending           Pillai College of Engineering New Panvel   \n",
       "4       Attending                               St Xavier's College    \n",
       "\n",
       "  Designation  Graduation_year       City  CGPA  Month_of_exp_python  \\\n",
       "0    Students             2024      Patna   6.7                    7   \n",
       "1    Students             2024   Amravati   8.2                    3   \n",
       "2    Students             2023    Kunrool   6.5                    4   \n",
       "3    Students             2025   Tirupati   8.7                    7   \n",
       "4    Students             2024  Vijaywada   9.1                    3   \n",
       "\n",
       "   Expected_salary_lac Leadership_skills Extracted  Family_in_1  Family_in_2  \n",
       "0                    6               yes         7            7            0  \n",
       "1                    7                no       0-2            0            2  \n",
       "2                    7                no       5-7            5            7  \n",
       "3                    8                no       2-5            2            5  \n",
       "4                   10               yes       0-2            0            2  "
      ]
     },
     "execution_count": 44,
     "metadata": {},
     "output_type": "execute_result"
    }
   ],
   "source": [
    "df.drop(columns=['Family_Income'],inplace=True)\n",
    "df.head()\n"
   ]
  },
  {
   "cell_type": "code",
   "execution_count": 45,
   "id": "5a307933-77f1-4a0a-8a63-f10b7837bef2",
   "metadata": {},
   "outputs": [
    {
     "data": {
      "text/html": [
       "<div>\n",
       "<style scoped>\n",
       "    .dataframe tbody tr th:only-of-type {\n",
       "        vertical-align: middle;\n",
       "    }\n",
       "\n",
       "    .dataframe tbody tr th {\n",
       "        vertical-align: top;\n",
       "    }\n",
       "\n",
       "    .dataframe thead th {\n",
       "        text-align: right;\n",
       "    }\n",
       "</style>\n",
       "<table border=\"1\" class=\"dataframe\">\n",
       "  <thead>\n",
       "    <tr style=\"text-align: right;\">\n",
       "      <th></th>\n",
       "      <th>First_Name</th>\n",
       "      <th>Email_ID</th>\n",
       "      <th>Quantity</th>\n",
       "      <th>Events</th>\n",
       "      <th>Attendee_Status</th>\n",
       "      <th>College_Name</th>\n",
       "      <th>Designation</th>\n",
       "      <th>Graduation_year</th>\n",
       "      <th>City</th>\n",
       "      <th>CGPA</th>\n",
       "      <th>Month_of_exp_python</th>\n",
       "      <th>Expected_salary_lac</th>\n",
       "      <th>Leadership_skills</th>\n",
       "      <th>Extracted</th>\n",
       "      <th>Family_in_1</th>\n",
       "      <th>Family_in_2</th>\n",
       "      <th>FamiLy_Income</th>\n",
       "    </tr>\n",
       "  </thead>\n",
       "  <tbody>\n",
       "    <tr>\n",
       "      <th>0</th>\n",
       "      <td>ANIKET</td>\n",
       "      <td>aniket@xyz.com</td>\n",
       "      <td>1</td>\n",
       "      <td>Art of Resume Building</td>\n",
       "      <td>Attending</td>\n",
       "      <td>D Y PATIL INSTITUTE OF MCA AND MANAGEMENT AKUR...</td>\n",
       "      <td>Students</td>\n",
       "      <td>2024</td>\n",
       "      <td>Patna</td>\n",
       "      <td>6.7</td>\n",
       "      <td>7</td>\n",
       "      <td>6</td>\n",
       "      <td>yes</td>\n",
       "      <td>7</td>\n",
       "      <td>7</td>\n",
       "      <td>0</td>\n",
       "      <td>7.0</td>\n",
       "    </tr>\n",
       "    <tr>\n",
       "      <th>1</th>\n",
       "      <td>Dhanshree</td>\n",
       "      <td>dhanshree@xyz.com</td>\n",
       "      <td>1</td>\n",
       "      <td>Art of Resume Building</td>\n",
       "      <td>Attending</td>\n",
       "      <td>AP SHAH INSTITUTE OF TECHNOLOGY</td>\n",
       "      <td>Students</td>\n",
       "      <td>2024</td>\n",
       "      <td>Amravati</td>\n",
       "      <td>8.2</td>\n",
       "      <td>3</td>\n",
       "      <td>7</td>\n",
       "      <td>no</td>\n",
       "      <td>0-2</td>\n",
       "      <td>0</td>\n",
       "      <td>2</td>\n",
       "      <td>1.0</td>\n",
       "    </tr>\n",
       "    <tr>\n",
       "      <th>2</th>\n",
       "      <td>Dhiraj</td>\n",
       "      <td>dhiraj@xyz.com</td>\n",
       "      <td>1</td>\n",
       "      <td>Art of Resume Building</td>\n",
       "      <td>Attending</td>\n",
       "      <td>Don Bosco College of Engineering Fatorda Goa</td>\n",
       "      <td>Students</td>\n",
       "      <td>2023</td>\n",
       "      <td>Kunrool</td>\n",
       "      <td>6.5</td>\n",
       "      <td>4</td>\n",
       "      <td>7</td>\n",
       "      <td>no</td>\n",
       "      <td>5-7</td>\n",
       "      <td>5</td>\n",
       "      <td>7</td>\n",
       "      <td>8.5</td>\n",
       "    </tr>\n",
       "    <tr>\n",
       "      <th>3</th>\n",
       "      <td>Pooja</td>\n",
       "      <td>pooja@xyz.com</td>\n",
       "      <td>1</td>\n",
       "      <td>Art of Resume Building</td>\n",
       "      <td>Attending</td>\n",
       "      <td>Pillai College of Engineering New Panvel</td>\n",
       "      <td>Students</td>\n",
       "      <td>2025</td>\n",
       "      <td>Tirupati</td>\n",
       "      <td>8.7</td>\n",
       "      <td>7</td>\n",
       "      <td>8</td>\n",
       "      <td>no</td>\n",
       "      <td>2-5</td>\n",
       "      <td>2</td>\n",
       "      <td>5</td>\n",
       "      <td>4.5</td>\n",
       "    </tr>\n",
       "    <tr>\n",
       "      <th>4</th>\n",
       "      <td>Aayush</td>\n",
       "      <td>aayush@xyz.com</td>\n",
       "      <td>1</td>\n",
       "      <td>Art of Resume Building</td>\n",
       "      <td>Attending</td>\n",
       "      <td>St Xavier's College</td>\n",
       "      <td>Students</td>\n",
       "      <td>2024</td>\n",
       "      <td>Vijaywada</td>\n",
       "      <td>9.1</td>\n",
       "      <td>3</td>\n",
       "      <td>10</td>\n",
       "      <td>yes</td>\n",
       "      <td>0-2</td>\n",
       "      <td>0</td>\n",
       "      <td>2</td>\n",
       "      <td>1.0</td>\n",
       "    </tr>\n",
       "  </tbody>\n",
       "</table>\n",
       "</div>"
      ],
      "text/plain": [
       "  First_Name           Email_ID  Quantity                  Events  \\\n",
       "0     ANIKET     aniket@xyz.com         1  Art of Resume Building   \n",
       "1  Dhanshree  dhanshree@xyz.com         1  Art of Resume Building   \n",
       "2     Dhiraj     dhiraj@xyz.com         1  Art of Resume Building   \n",
       "3      Pooja      pooja@xyz.com         1  Art of Resume Building   \n",
       "4     Aayush     aayush@xyz.com         1  Art of Resume Building   \n",
       "\n",
       "  Attendee_Status                                       College_Name  \\\n",
       "0       Attending  D Y PATIL INSTITUTE OF MCA AND MANAGEMENT AKUR...   \n",
       "1       Attending                   AP SHAH INSTITUTE OF TECHNOLOGY    \n",
       "2       Attending       Don Bosco College of Engineering Fatorda Goa   \n",
       "3       Attending           Pillai College of Engineering New Panvel   \n",
       "4       Attending                               St Xavier's College    \n",
       "\n",
       "  Designation  Graduation_year       City  CGPA  Month_of_exp_python  \\\n",
       "0    Students             2024      Patna   6.7                    7   \n",
       "1    Students             2024   Amravati   8.2                    3   \n",
       "2    Students             2023    Kunrool   6.5                    4   \n",
       "3    Students             2025   Tirupati   8.7                    7   \n",
       "4    Students             2024  Vijaywada   9.1                    3   \n",
       "\n",
       "   Expected_salary_lac Leadership_skills Extracted  Family_in_1  Family_in_2  \\\n",
       "0                    6               yes         7            7            0   \n",
       "1                    7                no       0-2            0            2   \n",
       "2                    7                no       5-7            5            7   \n",
       "3                    8                no       2-5            2            5   \n",
       "4                   10               yes       0-2            0            2   \n",
       "\n",
       "   FamiLy_Income  \n",
       "0            7.0  \n",
       "1            1.0  \n",
       "2            8.5  \n",
       "3            4.5  \n",
       "4            1.0  "
      ]
     },
     "execution_count": 45,
     "metadata": {},
     "output_type": "execute_result"
    }
   ],
   "source": [
    "df['FamiLy_Income']=pd.DataFrame(avg)\n",
    "df.head()\n"
   ]
  },
  {
   "cell_type": "code",
   "execution_count": 46,
   "id": "4ea16354-b09b-46a7-a1f1-eaf36154d349",
   "metadata": {},
   "outputs": [
    {
     "data": {
      "text/plain": [
       "1.374744585206375"
      ]
     },
     "execution_count": 46,
     "metadata": {},
     "output_type": "execute_result"
    }
   ],
   "source": [
    "df['FamiLy_Income'].mean()\n"
   ]
  },
  {
   "cell_type": "markdown",
   "id": "baf1e3f7-7114-44c2-9896-c54ea6c9bdd7",
   "metadata": {},
   "source": [
    "#### CONCLUSION:\n",
    "#### Average Family Income is 1.374744585206375."
   ]
  },
  {
   "cell_type": "markdown",
   "id": "c7c4c14a-6306-4e38-aadb-8f448fbfbba4",
   "metadata": {},
   "source": [
    "## 6) How does the GPA vary among different colleges? (Show top 5 results only)"
   ]
  },
  {
   "cell_type": "code",
   "execution_count": 47,
   "id": "5e36ada8-e58d-4042-b7ae-525381f9801b",
   "metadata": {},
   "outputs": [
    {
     "name": "stdout",
     "output_type": "stream",
     "text": [
      "Top 5 colleges with highest average GPA:\n",
      " College_Name\n",
      "THAKUR INSTITUTE OF MANAGEMENT STUDIES, CAREER DEVELOPMENT & RESEARCH - [TIMSCDR]    8.585714\n",
      "St Xavier's College                                                                  8.578571\n",
      "B. K. Birla College of Arts, Science & Commerce (Autonomous), Kalyan                 8.456410\n",
      "Symbiosis Institute of Technology, Pune                                              8.303448\n",
      "AP SHAH INSTITUTE OF TECHNOLOGY                                                      8.283333\n",
      "Name: CGPA, dtype: float64\n"
     ]
    }
   ],
   "source": [
    "top_college_gpa = df.groupby('College_Name')['CGPA'].mean().nlargest(5) \n",
    "print(\"Top 5 colleges with highest average GPA:\\n\", top_college_gpa)"
   ]
  },
  {
   "cell_type": "markdown",
   "id": "96c37fd1-88cc-4a2b-992d-d3f21297fe9f",
   "metadata": {},
   "source": [
    "#### Conclusion\n",
    "#### Top 5 colleges with highest average GPA:\n",
    " \n",
    "THAKUR INSTITUTE OF MANAGEMENT STUDIES, CAREER DEVELOPMENT & RESEARCH - [TIMSCDR]    8.585714\n",
    "\n",
    "St Xavier's College                                                                  8.578571\n",
    "\n",
    "B. K. Birla College of Arts, Science & Commerce (Autonomous), Kalyan                 8.456410\n",
    "\n",
    "Symbiosis Institute of Technology, Pune                                              8.303448\n",
    "\n",
    "AP SHAH INSTITUTE OF TECHNOLOGY                                                      8.283333\n"
   ]
  },
  {
   "cell_type": "markdown",
   "id": "c4f1725b-0bba-45ed-b4f8-635a62fd08d7",
   "metadata": {},
   "source": [
    "## 8) What is the average GPA for students from each city?"
   ]
  },
  {
   "cell_type": "code",
   "execution_count": 50,
   "id": "0a6a05b8-5b08-4226-9847-2ed61e383c79",
   "metadata": {},
   "outputs": [
    {
     "name": "stdout",
     "output_type": "stream",
     "text": [
      "Average GPA for students from each city:\n",
      " City\n",
      "Agartala     7.660714\n",
      "Agra         8.046429\n",
      "Ahemdabad    8.190385\n",
      "Ajmer        8.284314\n",
      "Akola        8.021429\n",
      "               ...   \n",
      "Vidisha      7.738095\n",
      "Vijaywada    7.986364\n",
      "Wardha       8.328571\n",
      "konark       8.071429\n",
      "kullu        7.878571\n",
      "Name: CGPA, Length: 177, dtype: float64\n"
     ]
    }
   ],
   "source": [
    "average_gpa_by_city = df.groupby('City')['CGPA'].mean() \n",
    "print(\"Average GPA for students from each city:\\n\", average_gpa_by_city)"
   ]
  },
  {
   "cell_type": "markdown",
   "id": "20bbe990-4cdf-4b21-bfe6-a6b37fc26738",
   "metadata": {},
   "source": [
    "#### CONCLUSION:\n",
    "#### Here students of Kolhapur, Raipur, Sonipat, Gurugram and Puri's top 5 cities has CGPA greater than 8.\n",
    "#### students of that cities they are smart or bright in studies."
   ]
  },
  {
   "cell_type": "markdown",
   "id": "a8a0cf45-a398-4fd9-bfef-93ffd36e05aa",
   "metadata": {},
   "source": [
    "## 9) Can we identify any relationship between family income and GPA?"
   ]
  },
  {
   "cell_type": "code",
   "execution_count": 52,
   "id": "7f0a168d-8337-42b2-9c29-a44a182e97c2",
   "metadata": {},
   "outputs": [
    {
     "data": {
      "text/plain": [
       "<Axes: xlabel='CGPA', ylabel='FamiLy_Income'>"
      ]
     },
     "execution_count": 52,
     "metadata": {},
     "output_type": "execute_result"
    },
    {
     "data": {
      "image/png": "[encoded data removed]",
      "text/plain": [
       "<Figure size 640x480 with 1 Axes>"
      ]
     },
     "metadata": {},
     "output_type": "display_data"
    }
   ],
   "source": [
    "sns.scatterplot(x=df['CGPA'], y=df['FamiLy_Income'])\n"
   ]
  },
  {
   "cell_type": "markdown",
   "id": "f6919e52-402f-4367-8f94-d352c2b9e724",
   "metadata": {},
   "source": [
    "#### CONCLUSION:\n",
    "#### After observe the graph we can say there is no relation between family income and CGPA. Means students\n",
    "#### who hasn't strong finance background they also bright in education."
   ]
  },
  {
   "cell_type": "markdown",
   "id": "5dc95612-2c04-4f3e-a774-4fcd62115b55",
   "metadata": {},
   "source": [
    "# Moderated Quenstions:\n"
   ]
  },
  {
   "cell_type": "markdown",
   "id": "17b24a02-5b35-45af-bcaf-326200dc8dae",
   "metadata": {},
   "source": [
    "## 10) How many students from various cities?(Solve using data visualisation tool).\n"
   ]
  },
  {
   "cell_type": "code",
   "execution_count": 53,
   "id": "70e5ec98-2119-4436-be56-cbd0aff036a2",
   "metadata": {},
   "outputs": [
    {
     "data": {
      "text/plain": [
       "First_Name\n",
       "10 Pawan        1\n",
       "AARAV           4\n",
       "ABA             1\n",
       "ABHINAVKUMAR    1\n",
       "ABHITA          1\n",
       "               ..\n",
       "vraj            2\n",
       "yash            1\n",
       "yugesh          1\n",
       "zeba            1\n",
       "zobia           1\n",
       "Name: City, Length: 2324, dtype: int64"
      ]
     },
     "execution_count": 53,
     "metadata": {},
     "output_type": "execute_result"
    }
   ],
   "source": [
    "stud_city = df.groupby('First_Name')['City'].count()\n",
    "stud_city\n"
   ]
  },
  {
   "cell_type": "code",
   "execution_count": 54,
   "id": "173a7bb6-4eb1-4870-8346-0b88e6206e3c",
   "metadata": {},
   "outputs": [
    {
     "data": {
      "image/png": "[encoded data removed]",
      "text/plain": [
       "<Figure size 1500x1000 with 1 Axes>"
      ]
     },
     "metadata": {},
     "output_type": "display_data"
    }
   ],
   "source": [
    "city_counts = df['City'].value_counts().head(20)\n",
    "# Create a countplot to visualize the number of students from the top 5 cities\n",
    "plt.figure(figsize=(15, 10))\n",
    "sns.barplot(x=city_counts.index, y=city_counts.values)\n",
    "plt.xlabel('City')\n",
    "plt.ylabel('Number of Students')\n",
    "plt.title('Top 5 Cities with the Most Students')\n",
    "# Display the countplot\n",
    "plt.xticks(rotation=45) # Rotate x-axis labels for better readability\n",
    "plt.show()\n"
   ]
  },
  {
   "cell_type": "markdown",
   "id": "aa9c0e2f-2c75-4c42-8e72-269d01d317ae",
   "metadata": {},
   "source": [
    "#### CONCLUSION:\n",
    "#### In above Chart we can see more than 45 number of students comes from Chandigarh, siuri, Talmuk and so on city.\n"
   ]
  },
  {
   "cell_type": "markdown",
   "id": "11b487d2-0d3a-401b-870e-d74a5856a5a0",
   "metadata": {},
   "source": [
    "## 11) How does the expected salary vary based on factors like 'GPA', 'Family_income', 'Experience with python(month)'?\n"
   ]
  },
  {
   "cell_type": "code",
   "execution_count": 56,
   "id": "207f3782-2a06-4072-854f-da127da6d60b",
   "metadata": {},
   "outputs": [
    {
     "data": {
      "text/plain": [
       "Text(0.5, 1.0, 'Expected_salary_lac VS Experience')"
      ]
     },
     "execution_count": 56,
     "metadata": {},
     "output_type": "execute_result"
    },
    {
     "data": {
      "image/png": "[encoded data removed]",
      "text/plain": [
       "<Figure size 800x1500 with 3 Axes>"
      ]
     },
     "metadata": {},
     "output_type": "display_data"
    }
   ],
   "source": [
    "plt.figure(figsize=(8,15))\n",
    "plt.subplot(3,1,1)\n",
    "sns.scatterplot(x=df['CGPA'], y=df['Expected_salary_lac'])\n",
    "plt.title('Expected_salary_lac VS CGPA')\n",
    "plt.subplot(3,1,2)\n",
    "sns.scatterplot(x=df['FamiLy_Income'], y=df['Expected_salary_lac'])\n",
    "plt.title('Expected_salary_lac VS Family_income')\n",
    "plt.subplot(3,1,3)\n",
    "sns.scatterplot(x=df['Month_of_exp_python'], y=df['Expected_salary_lac'])\n",
    "plt.title('Expected_salary_lac VS Experience')\n"
   ]
  },
  {
   "cell_type": "markdown",
   "id": "6584bf08-6a0c-45d8-a8d4-6557603864be",
   "metadata": {},
   "source": [
    "#### CONCLUSION:\n",
    "##### There are top 5 events tend to attact more students. Events Designation\n",
    "\n",
    "Product Design & Full Stack: Students - 841\n",
    "\n",
    "Internship Program(IP) Success Conclave: Students - 545\n",
    "\n",
    "Art of Resume Building: Students - 472\n",
    "\n",
    "Data Visualization using Power BI: Students - 451\n",
    "\n",
    "Talk on Skill and Employability Enhancement: Students - 379"
   ]
  },
  {
   "cell_type": "markdown",
   "id": "55bd0db8-f23c-4ba8-846d-358294777f73",
   "metadata": {},
   "source": [
    "## 13) Do students in leadership position during their college years tend to have higher GPAs or better expected salary?"
   ]
  },
  {
   "cell_type": "code",
   "execution_count": 58,
   "id": "e842463b-86b8-4e39-853e-361266a24411",
   "metadata": {},
   "outputs": [
    {
     "data": {
      "text/plain": [
       "array(['yes', 'no'], dtype=object)"
      ]
     },
     "execution_count": 58,
     "metadata": {},
     "output_type": "execute_result"
    }
   ],
   "source": [
    "df['Leadership_skills'] = df['Leadership_skills'].replace({'no ':'no'})\n",
    "df['Leadership_skills'].unique()\n"
   ]
  },
  {
   "cell_type": "code",
   "execution_count": 59,
   "id": "b5e833de-236a-4a57-a178-d0392a06f9ff",
   "metadata": {},
   "outputs": [
    {
     "data": {
      "text/plain": [
       "Text(0.5, 1.0, 'Distribution of GPAs for Students with and without Leadership Positions')"
      ]
     },
     "execution_count": 59,
     "metadata": {},
     "output_type": "execute_result"
    },
    {
     "data": {
      "image/png": "[encoded data removed]",
      "text/plain": [
       "<Figure size 1000x600 with 1 Axes>"
      ]
     },
     "metadata": {},
     "output_type": "display_data"
    }
   ],
   "source": [
    "# Visualization\n",
    "# Create box plots to visualize the distribution of GPAs\n",
    "plt.figure(figsize=(10, 6))\n",
    "sns.boxplot(x='Leadership_skills', y='CGPA', data=df)\n",
    "plt.xlabel('Leadership Position')\n",
    "plt.ylabel('GPA')\n",
    "plt.title('Distribution of GPAs for Students with and without Leadership Positions')\n"
   ]
  },
  {
   "cell_type": "markdown",
   "id": "378d9827-7273-4fa3-9942-d71942f928a3",
   "metadata": {},
   "source": [
    "#### CONCLUSION:\n",
    "#### there is no significant, means students in leadership position during their college years is not tend to have higher GPAs or better expected salary."
   ]
  },
  {
   "cell_type": "markdown",
   "id": "6646781b-8d7a-4a8a-846d-8759ad7b7d36",
   "metadata": {},
   "source": [
    "## 14) How many students are graduating by the end of 2024?"
   ]
  },
  {
   "cell_type": "code",
   "execution_count": 65,
   "id": "75f504ea-631c-4bac-aceb-77060c5b6574",
   "metadata": {},
   "outputs": [
    {
     "data": {
      "text/plain": [
       "3047"
      ]
     },
     "execution_count": 65,
     "metadata": {},
     "output_type": "execute_result"
    }
   ],
   "source": [
    "graduated_by_2024 = df[df['Graduation_year'] <= 2024]\n",
    "# Get the count of students who graduated by the end of 2024\n",
    "count_students_graduated_by_2024 = len(graduated_by_2024)\n",
    "count_students_graduated_by_2024"
   ]
  },
  {
   "cell_type": "markdown",
   "id": "6bf79924-9579-411e-8831-61f5f0b87fa8",
   "metadata": {},
   "source": [
    "#### CONCLUSION:\n",
    "#### 3047 students are graduating by the end of 2024.\n"
   ]
  },
  {
   "cell_type": "markdown",
   "id": "24162e4b-b66c-44a5-a2ec-ca2f7571943e",
   "metadata": {},
   "source": [
    "## 15) Which promotion channel brings in more student participations for the event?\n"
   ]
  },
  {
   "cell_type": "code",
   "execution_count": 100,
   "id": "94eafe06-5d77-45c0-8560-a482d01ab3be",
   "metadata": {},
   "outputs": [
    {
     "data": {
      "text/plain": [
       "Events                                   Designation  \n",
       "Internship Program(IP) Success Conclave  Director T& P                                            Attending\n",
       "                                         MTech                                                    Attending\n",
       "                                         MCA                                                      Attending\n",
       "                                         MBA Student                                              Attending\n",
       "                                         CEO                                                      Attending\n",
       "                                                                                ...                        \n",
       "                                         Students         AttendingAttendingAttendingAttendingAttendingA...\n",
       "Product Design & Full Stack              Students         AttendingAttendingAttendingAttendingAttendingA...\n",
       "Art of Resume Building                   Students         AttendingAttendingAttendingAttendingAttendingA...\n",
       "Data Visualization using Power BI        Students         AttendingAttendingAttendingAttendingAttendingA...\n",
       "Internship Program(IP) Success Conclave  Engineering      AttendingAttendingAttendingAttendingAttendingA...\n",
       "Name: Attendee_Status, Length: 84, dtype: object"
      ]
     },
     "execution_count": 100,
     "metadata": {},
     "output_type": "execute_result"
    }
   ],
   "source": [
    "event_attend = df.groupby(['Events','Designation'])['Attendee_Status'].sum().sort_values()\n",
    "event_attend\n"
   ]
  },
  {
   "cell_type": "markdown",
   "id": "9e4a445a-35b6-4d79-a668-15d92032f72b",
   "metadata": {},
   "source": [
    "#### CONCLUSION:\n",
    "#### In Product Design & Full Stack event more student participated.\n"
   ]
  },
  {
   "cell_type": "markdown",
   "id": "2b214c5b-76d2-4044-8eae-2a621c88bc5f",
   "metadata": {},
   "source": [
    "## 16) Find the total number of students who attended the events related to data science?(from all data science related course\n"
   ]
  },
  {
   "cell_type": "code",
   "execution_count": 69,
   "id": "be3260c3-511c-462f-bc22-37123a5b73db",
   "metadata": {},
   "outputs": [
    {
     "data": {
      "text/plain": [
       "array(['Art of Resume Building', 'Data Visualization using Power BI',\n",
       "       'Artificial Intelligence', 'Hello ML and DL', 'Product Marketing',\n",
       "       'IAC - Q&A', 'Internship Program(IP) Success Conclave',\n",
       "       'IS DATA SCIENCE FOR YOU?', 'KYC - Know Your CCPC',\n",
       "       'Product Design & Full Stack', 'RPA: A Boon or A Bane',\n",
       "       'Skill and Employability Enhancement',\n",
       "       'Talk on Skill and Employability Enhancement',\n",
       "       'The Agile Ways of Working', 'The SDLC & their transformations',\n",
       "       'Transformation with DevOps: The Easy Way'], dtype=object)"
      ]
     },
     "execution_count": 69,
     "metadata": {},
     "output_type": "execute_result"
    }
   ],
   "source": [
    "df['Events'].unique()\n"
   ]
  },
  {
   "cell_type": "code",
   "execution_count": 70,
   "id": "50880725-78fe-46ac-a5c0-2ce37f742b87",
   "metadata": {},
   "outputs": [
    {
     "data": {
      "text/html": [
       "<div>\n",
       "<style scoped>\n",
       "    .dataframe tbody tr th:only-of-type {\n",
       "        vertical-align: middle;\n",
       "    }\n",
       "\n",
       "    .dataframe tbody tr th {\n",
       "        vertical-align: top;\n",
       "    }\n",
       "\n",
       "    .dataframe thead th {\n",
       "        text-align: right;\n",
       "    }\n",
       "</style>\n",
       "<table border=\"1\" class=\"dataframe\">\n",
       "  <thead>\n",
       "    <tr style=\"text-align: right;\">\n",
       "      <th></th>\n",
       "      <th>First_Name</th>\n",
       "      <th>Email_ID</th>\n",
       "      <th>Quantity</th>\n",
       "      <th>Events</th>\n",
       "      <th>Attendee_Status</th>\n",
       "      <th>College_Name</th>\n",
       "      <th>Designation</th>\n",
       "      <th>Graduation_year</th>\n",
       "      <th>City</th>\n",
       "      <th>CGPA</th>\n",
       "      <th>Month_of_exp_python</th>\n",
       "      <th>Expected_salary_lac</th>\n",
       "      <th>Leadership_skills</th>\n",
       "      <th>FamiLy_Income</th>\n",
       "    </tr>\n",
       "  </thead>\n",
       "  <tbody>\n",
       "    <tr>\n",
       "      <th>341</th>\n",
       "      <td>Esha</td>\n",
       "      <td>esha@xyz.com</td>\n",
       "      <td>1</td>\n",
       "      <td>Data Visualization using Power BI</td>\n",
       "      <td>Attending</td>\n",
       "      <td>na</td>\n",
       "      <td>Students</td>\n",
       "      <td>2025</td>\n",
       "      <td>Gorakhpur</td>\n",
       "      <td>6.6</td>\n",
       "      <td>7</td>\n",
       "      <td>25</td>\n",
       "      <td>no</td>\n",
       "      <td>1.0</td>\n",
       "    </tr>\n",
       "    <tr>\n",
       "      <th>342</th>\n",
       "      <td>Akash</td>\n",
       "      <td>akash@xyz.com</td>\n",
       "      <td>1</td>\n",
       "      <td>Data Visualization using Power BI</td>\n",
       "      <td>Attending</td>\n",
       "      <td>ld college of engineering, ahmedabad, gujarat</td>\n",
       "      <td>Students</td>\n",
       "      <td>2026</td>\n",
       "      <td>Jhansi</td>\n",
       "      <td>7.9</td>\n",
       "      <td>3</td>\n",
       "      <td>8</td>\n",
       "      <td>no</td>\n",
       "      <td>1.0</td>\n",
       "    </tr>\n",
       "    <tr>\n",
       "      <th>343</th>\n",
       "      <td>Shubham</td>\n",
       "      <td>shubham@xyz.com</td>\n",
       "      <td>1</td>\n",
       "      <td>Data Visualization using Power BI</td>\n",
       "      <td>Attending</td>\n",
       "      <td>dkte society's textile and engineering institu...</td>\n",
       "      <td>Students</td>\n",
       "      <td>2024</td>\n",
       "      <td>Kanpur</td>\n",
       "      <td>7.1</td>\n",
       "      <td>5</td>\n",
       "      <td>19</td>\n",
       "      <td>no</td>\n",
       "      <td>1.0</td>\n",
       "    </tr>\n",
       "    <tr>\n",
       "      <th>344</th>\n",
       "      <td>Aniket</td>\n",
       "      <td>aniket@xyz.com</td>\n",
       "      <td>1</td>\n",
       "      <td>Data Visualization using Power BI</td>\n",
       "      <td>Attending</td>\n",
       "      <td>lokmanya tilak college of engineering koparkha...</td>\n",
       "      <td>Students</td>\n",
       "      <td>2023</td>\n",
       "      <td>Mathura</td>\n",
       "      <td>7.7</td>\n",
       "      <td>4</td>\n",
       "      <td>17</td>\n",
       "      <td>no</td>\n",
       "      <td>1.0</td>\n",
       "    </tr>\n",
       "    <tr>\n",
       "      <th>345</th>\n",
       "      <td>Sakshi</td>\n",
       "      <td>sakshi@xyz.com</td>\n",
       "      <td>1</td>\n",
       "      <td>Data Visualization using Power BI</td>\n",
       "      <td>Attending</td>\n",
       "      <td>vidyalankar institute of technology, mumbai</td>\n",
       "      <td>Students</td>\n",
       "      <td>2025</td>\n",
       "      <td>Varanasi</td>\n",
       "      <td>6.5</td>\n",
       "      <td>5</td>\n",
       "      <td>9</td>\n",
       "      <td>no</td>\n",
       "      <td>1.0</td>\n",
       "    </tr>\n",
       "  </tbody>\n",
       "</table>\n",
       "</div>"
      ],
      "text/plain": [
       "    First_Name         Email_ID  Quantity                             Events  \\\n",
       "341       Esha     esha@xyz.com         1  Data Visualization using Power BI   \n",
       "342      Akash    akash@xyz.com         1  Data Visualization using Power BI   \n",
       "343   Shubham   shubham@xyz.com         1  Data Visualization using Power BI   \n",
       "344     Aniket   aniket@xyz.com         1  Data Visualization using Power BI   \n",
       "345     Sakshi   sakshi@xyz.com         1  Data Visualization using Power BI   \n",
       "\n",
       "    Attendee_Status                                       College_Name  \\\n",
       "341       Attending                                                 na   \n",
       "342       Attending     ld college of engineering, ahmedabad, gujarat    \n",
       "343       Attending  dkte society's textile and engineering institu...   \n",
       "344       Attending  lokmanya tilak college of engineering koparkha...   \n",
       "345       Attending        vidyalankar institute of technology, mumbai   \n",
       "\n",
       "    Designation  Graduation_year       City  CGPA  Month_of_exp_python  \\\n",
       "341    Students             2025  Gorakhpur   6.6                    7   \n",
       "342    Students             2026     Jhansi   7.9                    3   \n",
       "343    Students             2024     Kanpur   7.1                    5   \n",
       "344    Students             2023    Mathura   7.7                    4   \n",
       "345    Students             2025   Varanasi   6.5                    5   \n",
       "\n",
       "     Expected_salary_lac Leadership_skills  FamiLy_Income  \n",
       "341                   25                no            1.0  \n",
       "342                    8                no            1.0  \n",
       "343                   19                no            1.0  \n",
       "344                   17                no            1.0  \n",
       "345                    9                no            1.0  "
      ]
     },
     "execution_count": 70,
     "metadata": {},
     "output_type": "execute_result"
    }
   ],
   "source": [
    "data_science_events = ['Data Visualization using Power BI',\n",
    " 'Hello ML and DL',\n",
    "'IS DATA SCIENCE FOR YOU?'\n",
    " ]\n",
    "ds_events = df[df['Events'].isin(data_science_events)]\n",
    "ds_events.head()\n"
   ]
  },
  {
   "cell_type": "code",
   "execution_count": 71,
   "id": "d8609a5d-8179-4da1-97c7-95227330e619",
   "metadata": {},
   "outputs": [
    {
     "data": {
      "text/html": [
       "<div>\n",
       "<style scoped>\n",
       "    .dataframe tbody tr th:only-of-type {\n",
       "        vertical-align: middle;\n",
       "    }\n",
       "\n",
       "    .dataframe tbody tr th {\n",
       "        vertical-align: top;\n",
       "    }\n",
       "\n",
       "    .dataframe thead th {\n",
       "        text-align: right;\n",
       "    }\n",
       "</style>\n",
       "<table border=\"1\" class=\"dataframe\">\n",
       "  <thead>\n",
       "    <tr style=\"text-align: right;\">\n",
       "      <th></th>\n",
       "      <th>Events</th>\n",
       "      <th>Designation</th>\n",
       "    </tr>\n",
       "  </thead>\n",
       "  <tbody>\n",
       "    <tr>\n",
       "      <th>341</th>\n",
       "      <td>Data Visualization using Power BI</td>\n",
       "      <td>Students</td>\n",
       "    </tr>\n",
       "    <tr>\n",
       "      <th>342</th>\n",
       "      <td>Data Visualization using Power BI</td>\n",
       "      <td>Students</td>\n",
       "    </tr>\n",
       "    <tr>\n",
       "      <th>343</th>\n",
       "      <td>Data Visualization using Power BI</td>\n",
       "      <td>Students</td>\n",
       "    </tr>\n",
       "    <tr>\n",
       "      <th>344</th>\n",
       "      <td>Data Visualization using Power BI</td>\n",
       "      <td>Students</td>\n",
       "    </tr>\n",
       "    <tr>\n",
       "      <th>345</th>\n",
       "      <td>Data Visualization using Power BI</td>\n",
       "      <td>Students</td>\n",
       "    </tr>\n",
       "    <tr>\n",
       "      <th>...</th>\n",
       "      <td>...</td>\n",
       "      <td>...</td>\n",
       "    </tr>\n",
       "    <tr>\n",
       "      <th>4858</th>\n",
       "      <td>Data Visualization using Power BI</td>\n",
       "      <td>Students</td>\n",
       "    </tr>\n",
       "    <tr>\n",
       "      <th>4890</th>\n",
       "      <td>Data Visualization using Power BI</td>\n",
       "      <td>Students</td>\n",
       "    </tr>\n",
       "    <tr>\n",
       "      <th>4891</th>\n",
       "      <td>Data Visualization using Power BI</td>\n",
       "      <td>Students</td>\n",
       "    </tr>\n",
       "    <tr>\n",
       "      <th>4892</th>\n",
       "      <td>Data Visualization using Power BI</td>\n",
       "      <td>Students</td>\n",
       "    </tr>\n",
       "    <tr>\n",
       "      <th>4893</th>\n",
       "      <td>Data Visualization using Power BI</td>\n",
       "      <td>Students</td>\n",
       "    </tr>\n",
       "  </tbody>\n",
       "</table>\n",
       "<p>1023 rows × 2 columns</p>\n",
       "</div>"
      ],
      "text/plain": [
       "                                 Events Designation\n",
       "341   Data Visualization using Power BI    Students\n",
       "342   Data Visualization using Power BI    Students\n",
       "343   Data Visualization using Power BI    Students\n",
       "344   Data Visualization using Power BI    Students\n",
       "345   Data Visualization using Power BI    Students\n",
       "...                                 ...         ...\n",
       "4858  Data Visualization using Power BI    Students\n",
       "4890  Data Visualization using Power BI    Students\n",
       "4891  Data Visualization using Power BI    Students\n",
       "4892  Data Visualization using Power BI    Students\n",
       "4893  Data Visualization using Power BI    Students\n",
       "\n",
       "[1023 rows x 2 columns]"
      ]
     },
     "execution_count": 71,
     "metadata": {},
     "output_type": "execute_result"
    }
   ],
   "source": [
    "event_stud=ds_events.loc[:,['Events','Designation']]\n",
    "event_stud"
   ]
  },
  {
   "cell_type": "code",
   "execution_count": 76,
   "id": "14b1a82a-54ae-4c47-bf97-fc149ed5b341",
   "metadata": {},
   "outputs": [
    {
     "data": {
      "text/plain": [
       "1020"
      ]
     },
     "execution_count": 76,
     "metadata": {},
     "output_type": "execute_result"
    }
   ],
   "source": [
    "specific_value = 'Students'\n",
    "selected_rows = event_stud.loc[event_stud['Designation'] == specific_value, ['Events', 'Designation']]\n",
    "total_events=selected_rows.groupby(['Events'])['Designation'].value_counts()\n",
    "total_events.sum()\n"
   ]
  },
  {
   "cell_type": "markdown",
   "id": "d9477853-2f94-4a80-a763-095403950025",
   "metadata": {},
   "source": [
    "#### CONCLUSION:\n",
    "#### 'Data Visualization using Power BI','Hello ML and DL','IS DATA SCIENCE FOR YOU?' all this events are related to Data Science and total 1020 students attend the events.\n"
   ]
  },
  {
   "cell_type": "markdown",
   "id": "5a4d0740-fd49-48b8-8d7a-ac9837e999e6",
   "metadata": {},
   "source": [
    "## 17) Those who have high CGPA & More experience in language those who had high expectation for salary?(Avg)\n"
   ]
  },
  {
   "cell_type": "code",
   "execution_count": 83,
   "id": "94994fcf-3387-47ff-9e5b-7b2b9aba39d1",
   "metadata": {},
   "outputs": [
    {
     "name": "stdout",
     "output_type": "stream",
     "text": [
      "The average salary expectation among students with high CGPA and more experience 13.519377162629757\n"
     ]
    }
   ],
   "source": [
    "# Define thresholds for high CGPA and more programming experience\n",
    "high_cgpa_threshold = 6.0 # You can adjust this threshold as needed\n",
    "more_experience_threshold = 4 # You can adjust this threshold as needed\n",
    "# Filter rows where CGPA is high and ProgrammingExperience is more\n",
    "high_cgpa_more_experience = df[(df['CGPA'] >= high_cgpa_threshold) & (df['Month_of_exp_python'])]\n",
    "# Calculate the average salary expectation for this subset of students\n",
    "average_salary_expectation = high_cgpa_more_experience['Expected_salary_lac'].mean()\n",
    "# Print the average salary expectation\n",
    "print(f'The average salary expectation among students with high CGPA and more experience',average_salary_expectation )"
   ]
  },
  {
   "cell_type": "code",
   "execution_count": 86,
   "id": "7feb5684-4282-4f9a-a2ec-ba80e454e9ce",
   "metadata": {},
   "outputs": [
    {
     "data": {
      "text/plain": [
       "<Axes: xlabel='Expected_salary_lac', ylabel='CGPA'>"
      ]
     },
     "execution_count": 86,
     "metadata": {},
     "output_type": "execute_result"
    },
    {
     "data": {
      "image/png": "[encoded data removed]",
      "text/plain": [
       "<Figure size 1000x500 with 1 Axes>"
      ]
     },
     "metadata": {},
     "output_type": "display_data"
    }
   ],
   "source": [
    "plt.figure(figsize=(10,5))\n",
    "plt.subplot(2,1,1)\n",
    "sns.barplot(x=high_cgpa_more_experience['Expected_salary_lac'],y=high_cgpa_more_experience['CGPA'])\n"
   ]
  },
  {
   "cell_type": "code",
   "execution_count": 87,
   "id": "a964cbf4-af70-4d93-93dc-6af7d88271ff",
   "metadata": {},
   "outputs": [
    {
     "data": {
      "image/png": "[encoded data removed]",
      "text/plain": [
       "<Figure size 800x600 with 1 Axes>"
      ]
     },
     "metadata": {},
     "output_type": "display_data"
    }
   ],
   "source": [
    "high_cgpa_threshold = 3.8\n",
    "more_experience_threshold = 4\n",
    "# Filter rows where CGPA is high and ProgrammingExperience is more\n",
    "high_cgpa_more_experience = df[(df['CGPA'] >= high_cgpa_threshold) & (df['Month_of_exp_python'])]\n",
    "# Calculate the average salary expectation for this subset of students\n",
    "average_salary_expectation = high_cgpa_more_experience['Expected_salary_lac'].mean()\n",
    "# Create a bar plot to visualize the average salary expectation\n",
    "plt.figure(figsize=(8, 6))\n",
    "sns.barplot(x=[\"High CGPA & More Exp.\"], y=[average_salary_expectation])\n",
    "plt.xlabel(\"Student Group\")\n",
    "plt.ylabel(\"Average Salary Expectation\")\n",
    "plt.title(\"Average Salary Expectation for High CGPA & More Experience\")\n",
    "plt.xticks(rotation=45)\n",
    "plt.show()"
   ]
  },
  {
   "cell_type": "markdown",
   "id": "e1e8412c-a058-4b33-b677-11425c020b85",
   "metadata": {},
   "source": [
    "#### CONCLUSION:\n",
    "#### The average salary expectation among students with high CGPA and more experience is: 13.5\n"
   ]
  },
  {
   "cell_type": "code",
   "execution_count": null,
   "id": "a69e7223-bea8-4e10-ae8a-867c7accaea8",
   "metadata": {},
   "outputs": [],
   "source": []
  }
 ],
 "metadata": {
  "kernelspec": {
   "display_name": "Python 3 (ipykernel)",
   "language": "python",
   "name": "python3"
  },
  "language_info": {
   "codemirror_mode": {
    "name": "ipython",
    "version": 3
   },
   "file_extension": ".py",
   "mimetype": "text/x-python",
   "name": "python",
   "nbconvert_exporter": "python",
   "pygments_lexer": "ipython3",
   "version": "3.11.4"
  }
 },
 "nbformat": 4,
 "nbformat_minor": 5
}
